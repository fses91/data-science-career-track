{
 "cells": [
  {
   "cell_type": "code",
   "execution_count": 15,
   "metadata": {
    "collapsed": false
   },
   "outputs": [],
   "source": [
    "import keras\n",
    "import tensorflow as tf\n",
    "\n",
    "from keras.applications import ResNet50, VGG16\n",
    "from keras.preprocessing.image import ImageDataGenerator\n",
    "from keras.models import Sequential\n",
    "from keras.layers import Flatten, Dense, Input, Dropout\n",
    "from keras.layers import Conv2D, ZeroPadding2D\n",
    "from keras.layers import MaxPooling2D\n",
    "from keras.metrics import top_k_categorical_accuracy\n",
    "from keras.models import Model\n",
    "from keras.optimizers import SGD\n",
    "from keras import backend as K"
   ]
  },
  {
   "cell_type": "code",
   "execution_count": 16,
   "metadata": {
    "collapsed": true
   },
   "outputs": [],
   "source": [
    "train_datagen = ImageDataGenerator(\n",
    "        samplewise_center=True,\n",
    "        samplewise_std_normalization=True,\n",
    "        horizontal_flip=True,\n",
    "        vertical_flip=True)\n",
    "\n",
    "test_datagen = ImageDataGenerator()"
   ]
  },
  {
   "cell_type": "code",
   "execution_count": 17,
   "metadata": {
    "collapsed": false
   },
   "outputs": [
    {
     "name": "stdout",
     "output_type": "stream",
     "text": [
      "Found 3668 images belonging to 39 classes.\n",
      "Found 900 images belonging to 39 classes.\n"
     ]
    }
   ],
   "source": [
    "train_generator = train_datagen.flow_from_directory(\n",
    "    '../data/data_small_train/',     \n",
    "    class_mode='categorical',           \n",
    "    target_size=(224, 224),\n",
    "    batch_size=50)\n",
    "\n",
    "validation_generator = test_datagen.flow_from_directory(\n",
    "    '../data/data_small_test/',  \n",
    "    class_mode='categorical',\n",
    "    target_size=(224, 224),\n",
    "    batch_size=50)"
   ]
  },
  {
   "cell_type": "code",
   "execution_count": 18,
   "metadata": {
    "collapsed": true
   },
   "outputs": [],
   "source": [
    "tbCallBack = keras.callbacks.TensorBoard(log_dir='./logs', histogram_freq=0, write_graph=True, write_images=True)"
   ]
  },
  {
   "cell_type": "code",
   "execution_count": 23,
   "metadata": {
    "collapsed": false
   },
   "outputs": [
    {
     "name": "stdout",
     "output_type": "stream",
     "text": [
      "_________________________________________________________________\n",
      "Layer (type)                 Output Shape              Param #   \n",
      "=================================================================\n",
      "image_input (InputLayer)     (None, 224, 224, 3)       0         \n",
      "_________________________________________________________________\n",
      "vgg16 (Model)                multiple                  14714688  \n",
      "_________________________________________________________________\n",
      "flatten (Flatten)            (None, 25088)             0         \n",
      "_________________________________________________________________\n",
      "fc1 (Dense)                  (None, 4096)              102764544 \n",
      "_________________________________________________________________\n",
      "fc2 (Dense)                  (None, 4096)              16781312  \n",
      "_________________________________________________________________\n",
      "predictions (Dense)          (None, 39)                159783    \n",
      "=================================================================\n",
      "Total params: 134,420,327\n",
      "Trainable params: 122,065,447\n",
      "Non-trainable params: 12,354,880\n",
      "_________________________________________________________________\n"
     ]
    }
   ],
   "source": [
    "#Get back the convolutional part of a VGG network trained on ImageNet\n",
    "model_vgg16_conv = VGG16(weights='imagenet', include_top=False)\n",
    "model_vgg16_conv.layers[1].trainable = False\n",
    "model_vgg16_conv.layers[2].trainable = False\n",
    "model_vgg16_conv.layers[4].trainable = False\n",
    "model_vgg16_conv.layers[5].trainable = False\n",
    "model_vgg16_conv.layers[7].trainable = False\n",
    "model_vgg16_conv.layers[8].trainable = False\n",
    "model_vgg16_conv.layers[9].trainable = False\n",
    "model_vgg16_conv.layers[11].trainable = False\n",
    "model_vgg16_conv.layers[12].trainable = False\n",
    "model_vgg16_conv.layers[13].trainable = False\n",
    "model_vgg16_conv.layers[15].trainable = False\n",
    "model_vgg16_conv.layers[16].trainable = False\n",
    "model_vgg16_conv.layers[18].trainable = False\n",
    "\n",
    "input = Input(shape=(224, 224, 3), name='image_input')\n",
    "\n",
    "output_vgg16_conv = model_vgg16_conv(input)\n",
    "\n",
    "x = Flatten(name='flatten')(output_vgg16_conv)\n",
    "x = Dense(4096, activation='relu', name='fc1')(x)\n",
    "x = Dense(4096, activation='relu', name='fc2')(x)\n",
    "x = Dense(39, activation='softmax', name='predictions')(x)\n",
    "\n",
    "model = Model(inputs = input, outputs=x)\n",
    "\n",
    "model.summary()"
   ]
  },
  {
   "cell_type": "code",
   "execution_count": 24,
   "metadata": {
    "collapsed": true
   },
   "outputs": [],
   "source": [
    "def top_5_categorical_accuracy(y_true, y_pred):\n",
    "    return top_k_categorical_accuracy(y_true, y_pred, k=5)"
   ]
  },
  {
   "cell_type": "code",
   "execution_count": 25,
   "metadata": {
    "collapsed": false
   },
   "outputs": [],
   "source": [
    "sgd = SGD(lr=0.01, decay=0.0005, momentum=0.9, nesterov=True)\n",
    "model.compile(loss='categorical_crossentropy',\n",
    "              optimizer=sgd,\n",
    "              metrics=['accuracy', top_5_categorical_accuracy])"
   ]
  },
  {
   "cell_type": "code",
   "execution_count": null,
   "metadata": {
    "collapsed": false
   },
   "outputs": [
    {
     "name": "stdout",
     "output_type": "stream",
     "text": [
      "Epoch 1/100\n",
      "104s - loss: 3.1736 - acc: 0.1877 - top_5_categorical_accuracy: 0.4356 - val_loss: 11.4982 - val_acc: 0.2456 - val_top_5_categorical_accuracy: 0.5489\n",
      "Epoch 2/100\n",
      "96s - loss: 2.1823 - acc: 0.4154 - top_5_categorical_accuracy: 0.7214 - val_loss: 9.5239 - val_acc: 0.3722 - val_top_5_categorical_accuracy: 0.7522\n",
      "Epoch 3/100\n",
      "95s - loss: 1.7227 - acc: 0.5294 - top_5_categorical_accuracy: 0.8109 - val_loss: 9.4819 - val_acc: 0.3800 - val_top_5_categorical_accuracy: 0.8244\n",
      "Epoch 4/100\n",
      "96s - loss: 1.3841 - acc: 0.6173 - top_5_categorical_accuracy: 0.8715 - val_loss: 8.9990 - val_acc: 0.4211 - val_top_5_categorical_accuracy: 0.8444\n",
      "Epoch 5/100\n",
      "96s - loss: 1.0808 - acc: 0.7003 - top_5_categorical_accuracy: 0.9094 - val_loss: 9.6526 - val_acc: 0.3789 - val_top_5_categorical_accuracy: 0.8900\n",
      "Epoch 6/100\n",
      "96s - loss: 0.9028 - acc: 0.7524 - top_5_categorical_accuracy: 0.9259 - val_loss: 9.4717 - val_acc: 0.4011 - val_top_5_categorical_accuracy: 0.9100\n",
      "Epoch 7/100\n",
      "96s - loss: 0.6479 - acc: 0.8224 - top_5_categorical_accuracy: 0.9562 - val_loss: 9.1081 - val_acc: 0.4200 - val_top_5_categorical_accuracy: 0.9244\n",
      "Epoch 8/100\n",
      "96s - loss: 0.5460 - acc: 0.8504 - top_5_categorical_accuracy: 0.9684 - val_loss: 8.6832 - val_acc: 0.4489 - val_top_5_categorical_accuracy: 0.9311\n",
      "Epoch 9/100\n",
      "96s - loss: 0.4199 - acc: 0.8795 - top_5_categorical_accuracy: 0.9776 - val_loss: 8.3378 - val_acc: 0.4689 - val_top_5_categorical_accuracy: 0.9556\n",
      "Epoch 10/100\n",
      "96s - loss: 0.3238 - acc: 0.9157 - top_5_categorical_accuracy: 0.9824 - val_loss: 8.9463 - val_acc: 0.4289 - val_top_5_categorical_accuracy: 0.9567\n",
      "Epoch 11/100\n",
      "96s - loss: 0.2534 - acc: 0.9342 - top_5_categorical_accuracy: 0.9878 - val_loss: 7.8372 - val_acc: 0.4978 - val_top_5_categorical_accuracy: 0.9544\n",
      "Epoch 12/100\n",
      "96s - loss: 0.2157 - acc: 0.9410 - top_5_categorical_accuracy: 0.9900 - val_loss: 8.5984 - val_acc: 0.4522 - val_top_5_categorical_accuracy: 0.9489\n",
      "Epoch 13/100\n",
      "96s - loss: 0.1677 - acc: 0.9570 - top_5_categorical_accuracy: 0.9924 - val_loss: 8.6533 - val_acc: 0.4467 - val_top_5_categorical_accuracy: 0.9522\n",
      "Epoch 14/100\n",
      "96s - loss: 0.1339 - acc: 0.9664 - top_5_categorical_accuracy: 0.9935 - val_loss: 8.2386 - val_acc: 0.4778 - val_top_5_categorical_accuracy: 0.9633\n",
      "Epoch 15/100\n",
      "95s - loss: 0.1032 - acc: 0.9746 - top_5_categorical_accuracy: 0.9943 - val_loss: 9.1699 - val_acc: 0.4189 - val_top_5_categorical_accuracy: 0.9700\n",
      "Epoch 16/100\n",
      "95s - loss: 0.0950 - acc: 0.9757 - top_5_categorical_accuracy: 0.9954 - val_loss: 8.3381 - val_acc: 0.4767 - val_top_5_categorical_accuracy: 0.9667\n",
      "Epoch 17/100\n",
      "96s - loss: 0.0710 - acc: 0.9854 - top_5_categorical_accuracy: 0.9962 - val_loss: 8.6305 - val_acc: 0.4578 - val_top_5_categorical_accuracy: 0.9622\n",
      "Epoch 18/100\n",
      "96s - loss: 0.0715 - acc: 0.9832 - top_5_categorical_accuracy: 0.9943 - val_loss: 8.4060 - val_acc: 0.4678 - val_top_5_categorical_accuracy: 0.9644\n",
      "Epoch 19/100\n",
      "96s - loss: 0.0629 - acc: 0.9860 - top_5_categorical_accuracy: 0.9959 - val_loss: 8.6017 - val_acc: 0.4578 - val_top_5_categorical_accuracy: 0.9689\n",
      "Epoch 20/100\n"
     ]
    }
   ],
   "source": [
    "model.fit_generator(\n",
    "    generator=train_generator,\n",
    "    steps_per_epoch=74,\n",
    "    validation_data=validation_generator,\n",
    "    validation_steps=18,\n",
    "    epochs=100,\n",
    "    callbacks=[tbCallBack],\n",
    "    verbose=2)"
   ]
  },
  {
   "cell_type": "code",
   "execution_count": null,
   "metadata": {
    "collapsed": true
   },
   "outputs": [],
   "source": []
  }
 ],
 "metadata": {
  "kernelspec": {
   "display_name": "Python 3",
   "language": "python",
   "name": "python3"
  },
  "language_info": {
   "codemirror_mode": {
    "name": "ipython",
    "version": 3
   },
   "file_extension": ".py",
   "mimetype": "text/x-python",
   "name": "python",
   "nbconvert_exporter": "python",
   "pygments_lexer": "ipython3",
   "version": "3.6.0"
  }
 },
 "nbformat": 4,
 "nbformat_minor": 2
}
