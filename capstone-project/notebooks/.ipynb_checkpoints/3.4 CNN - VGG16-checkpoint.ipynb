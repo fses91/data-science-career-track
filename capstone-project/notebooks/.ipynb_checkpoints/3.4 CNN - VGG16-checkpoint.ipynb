{
 "cells": [
  {
   "cell_type": "code",
   "execution_count": 1,
   "metadata": {
    "collapsed": false
   },
   "outputs": [
    {
     "name": "stderr",
     "output_type": "stream",
     "text": [
      "Using TensorFlow backend.\n"
     ]
    }
   ],
   "source": [
    "import keras\n",
    "import tensorflow as tf\n",
    "\n",
    "from keras.applications import ResNet50, VGG16\n",
    "from keras.preprocessing.image import ImageDataGenerator\n",
    "from keras.models import Sequential\n",
    "from keras.layers import Flatten, Dense, Input, Dropout\n",
    "from keras.layers import Conv2D, ZeroPadding2D\n",
    "from keras.layers import MaxPooling2D\n",
    "from keras.metrics import top_k_categorical_accuracy\n",
    "from keras.models import Model\n",
    "from keras.optimizers import SGD\n",
    "from keras import backend as K"
   ]
  },
  {
   "cell_type": "code",
   "execution_count": 2,
   "metadata": {
    "collapsed": true
   },
   "outputs": [],
   "source": [
    "train_datagen = ImageDataGenerator(\n",
    "        samplewise_center=True,\n",
    "        samplewise_std_normalization=True,\n",
    "        horizontal_flip=True,\n",
    "        vertical_flip=True,\n",
    "        width_shift_range=0.1,\n",
    "        height_shift_range=0.1)\n",
    "\n",
    "test_datagen = ImageDataGenerator()"
   ]
  },
  {
   "cell_type": "code",
   "execution_count": 3,
   "metadata": {
    "collapsed": false
   },
   "outputs": [
    {
     "name": "stdout",
     "output_type": "stream",
     "text": [
      "Found 24580 images belonging to 257 classes.\n",
      "Found 6027 images belonging to 257 classes.\n"
     ]
    }
   ],
   "source": [
    "train_generator = train_datagen.flow_from_directory(\n",
    "    '../data/data_train/',     \n",
    "    class_mode='categorical',           \n",
    "    target_size=(224, 224),\n",
    "    batch_size=50)\n",
    "\n",
    "validation_generator = test_datagen.flow_from_directory(\n",
    "    '../data/data_test/',  \n",
    "    class_mode='categorical',\n",
    "    target_size=(224, 224),\n",
    "    batch_size=50)"
   ]
  },
  {
   "cell_type": "code",
   "execution_count": 4,
   "metadata": {
    "collapsed": true
   },
   "outputs": [],
   "source": [
    "tbCallBack = keras.callbacks.TensorBoard(log_dir='./logs', histogram_freq=0, write_graph=True, write_images=True)"
   ]
  },
  {
   "cell_type": "code",
   "execution_count": 5,
   "metadata": {
    "collapsed": false
   },
   "outputs": [
    {
     "name": "stdout",
     "output_type": "stream",
     "text": [
      "_________________________________________________________________\n",
      "Layer (type)                 Output Shape              Param #   \n",
      "=================================================================\n",
      "image_input (InputLayer)     (None, 224, 224, 3)       0         \n",
      "_________________________________________________________________\n",
      "vgg16 (Model)                multiple                  14714688  \n",
      "_________________________________________________________________\n",
      "flatten (Flatten)            (None, 25088)             0         \n",
      "_________________________________________________________________\n",
      "fc1 (Dense)                  (None, 4096)              102764544 \n",
      "_________________________________________________________________\n",
      "fc2 (Dense)                  (None, 4096)              16781312  \n",
      "_________________________________________________________________\n",
      "predictions (Dense)          (None, 257)               1052929   \n",
      "=================================================================\n",
      "Total params: 135,313,473\n",
      "Trainable params: 122,958,593\n",
      "Non-trainable params: 12,354,880\n",
      "_________________________________________________________________\n"
     ]
    }
   ],
   "source": [
    "#Get back the convolutional part of a VGG network trained on ImageNet\n",
    "model_vgg16_conv = VGG16(weights='imagenet', include_top=False)\n",
    "model_vgg16_conv.layers[1].trainable = False\n",
    "model_vgg16_conv.layers[2].trainable = False\n",
    "model_vgg16_conv.layers[4].trainable = False\n",
    "model_vgg16_conv.layers[5].trainable = False\n",
    "model_vgg16_conv.layers[7].trainable = False\n",
    "model_vgg16_conv.layers[8].trainable = False\n",
    "model_vgg16_conv.layers[9].trainable = False\n",
    "model_vgg16_conv.layers[11].trainable = False\n",
    "model_vgg16_conv.layers[12].trainable = False\n",
    "model_vgg16_conv.layers[13].trainable = False\n",
    "model_vgg16_conv.layers[15].trainable = False\n",
    "model_vgg16_conv.layers[16].trainable = False\n",
    "model_vgg16_conv.layers[18].trainable = False\n",
    "\n",
    "input = Input(shape=(224, 224, 3), name='image_input')\n",
    "\n",
    "output_vgg16_conv = model_vgg16_conv(input)\n",
    "\n",
    "x = Flatten(name='flatten')(output_vgg16_conv)\n",
    "x = Dense(4096, activation='relu', name='fc1')(x)\n",
    "x = Dense(4096, activation='relu', name='fc2')(x)\n",
    "x = Dense(257, activation='softmax', name='predictions')(x)\n",
    "\n",
    "model = Model(inputs = input, outputs=x)\n",
    "\n",
    "model.summary()"
   ]
  },
  {
   "cell_type": "code",
   "execution_count": 6,
   "metadata": {
    "collapsed": true
   },
   "outputs": [],
   "source": [
    "def top_5_categorical_accuracy(y_true, y_pred):\n",
    "    return top_k_categorical_accuracy(y_true, y_pred, k=5)"
   ]
  },
  {
   "cell_type": "code",
   "execution_count": 7,
   "metadata": {
    "collapsed": false
   },
   "outputs": [],
   "source": [
    "sgd = SGD(lr=0.01, decay=0.0005, momentum=0.9, nesterov=True)\n",
    "model.compile(loss='categorical_crossentropy',\n",
    "              optimizer=sgd,\n",
    "              metrics=['accuracy', top_5_categorical_accuracy])"
   ]
  },
  {
   "cell_type": "code",
   "execution_count": 8,
   "metadata": {
    "collapsed": false
   },
   "outputs": [
    {
     "name": "stdout",
     "output_type": "stream",
     "text": [
      "Epoch 1/10\n",
      "619s - loss: 4.5228 - acc: 0.1377 - top_5_categorical_accuracy: 0.2605 - val_loss: 13.6662 - val_acc: 0.1233 - val_top_5_categorical_accuracy: 0.3133\n",
      "Epoch 2/10\n",
      "589s - loss: 3.6294 - acc: 0.2412 - top_5_categorical_accuracy: 0.4409 - val_loss: 13.0863 - val_acc: 0.1626 - val_top_5_categorical_accuracy: 0.4740\n",
      "Epoch 3/10\n",
      "591s - loss: 3.1927 - acc: 0.3102 - top_5_categorical_accuracy: 0.5304 - val_loss: 12.8533 - val_acc: 0.1862 - val_top_5_categorical_accuracy: 0.5565\n",
      "Epoch 4/10\n",
      "593s - loss: 2.8852 - acc: 0.3619 - top_5_categorical_accuracy: 0.5926 - val_loss: 12.6126 - val_acc: 0.1989 - val_top_5_categorical_accuracy: 0.6195\n",
      "Epoch 5/10\n",
      "611s - loss: 2.5974 - acc: 0.4127 - top_5_categorical_accuracy: 0.6454 - val_loss: 12.5824 - val_acc: 0.2031 - val_top_5_categorical_accuracy: 0.6894\n",
      "Epoch 6/10\n",
      "611s - loss: 2.3466 - acc: 0.4572 - top_5_categorical_accuracy: 0.6935 - val_loss: 12.3122 - val_acc: 0.2235 - val_top_5_categorical_accuracy: 0.7015\n",
      "Epoch 7/10\n",
      "611s - loss: 2.1189 - acc: 0.5028 - top_5_categorical_accuracy: 0.7350 - val_loss: 12.5097 - val_acc: 0.2109 - val_top_5_categorical_accuracy: 0.7390\n",
      "Epoch 8/10\n",
      "610s - loss: 1.8903 - acc: 0.5476 - top_5_categorical_accuracy: 0.7755 - val_loss: 12.3428 - val_acc: 0.2212 - val_top_5_categorical_accuracy: 0.7672\n",
      "Epoch 9/10\n",
      "611s - loss: 1.6955 - acc: 0.5861 - top_5_categorical_accuracy: 0.8096 - val_loss: 12.2603 - val_acc: 0.2270 - val_top_5_categorical_accuracy: 0.7765\n",
      "Epoch 10/10\n",
      "612s - loss: 1.4961 - acc: 0.6318 - top_5_categorical_accuracy: 0.8397 - val_loss: 12.4759 - val_acc: 0.2169 - val_top_5_categorical_accuracy: 0.7885\n"
     ]
    },
    {
     "data": {
      "text/plain": [
       "<keras.callbacks.History at 0x7fd8a0efc080>"
      ]
     },
     "execution_count": 8,
     "metadata": {},
     "output_type": "execute_result"
    }
   ],
   "source": [
    "model.fit_generator(\n",
    "    generator=train_generator,\n",
    "    steps_per_epoch=492,\n",
    "    validation_data=validation_generator,\n",
    "    validation_steps=121,\n",
    "    epochs=10,\n",
    "    callbacks=[tbCallBack],\n",
    "    verbose=2)"
   ]
  },
  {
   "cell_type": "code",
   "execution_count": 9,
   "metadata": {
    "collapsed": true
   },
   "outputs": [],
   "source": [
    "model.save('../data/vgg16_model_trained_augmentation_light.h5')"
   ]
  }
 ],
 "metadata": {
  "kernelspec": {
   "display_name": "Python 3",
   "language": "python",
   "name": "python3"
  },
  "language_info": {
   "codemirror_mode": {
    "name": "ipython",
    "version": 3
   },
   "file_extension": ".py",
   "mimetype": "text/x-python",
   "name": "python",
   "nbconvert_exporter": "python",
   "pygments_lexer": "ipython3",
   "version": "3.6.0"
  }
 },
 "nbformat": 4,
 "nbformat_minor": 2
}
