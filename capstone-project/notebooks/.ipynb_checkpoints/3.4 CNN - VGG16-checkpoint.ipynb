{
 "cells": [
  {
   "cell_type": "code",
   "execution_count": 1,
   "metadata": {
    "collapsed": false
   },
   "outputs": [
    {
     "name": "stderr",
     "output_type": "stream",
     "text": [
      "Using TensorFlow backend.\n"
     ]
    }
   ],
   "source": [
    "import keras\n",
    "import tensorflow as tf\n",
    "\n",
    "from keras.applications import ResNet50, VGG16\n",
    "from keras.preprocessing.image import ImageDataGenerator\n",
    "from keras.models import Sequential\n",
    "from keras.layers import Flatten, Dense, Input, Dropout\n",
    "from keras.layers import Conv2D, ZeroPadding2D\n",
    "from keras.layers import MaxPooling2D\n",
    "from keras.metrics import top_k_categorical_accuracy\n",
    "from keras.models import Model\n",
    "from keras.optimizers import SGD\n",
    "from keras import backend as K"
   ]
  },
  {
   "cell_type": "code",
   "execution_count": 2,
   "metadata": {
    "collapsed": true
   },
   "outputs": [],
   "source": [
    "train_datagen = ImageDataGenerator(\n",
    "        rotation_range=40,\n",
    "        width_shift_range=0.2,\n",
    "        height_shift_range=0.2,\n",
    "        rescale=1./255,\n",
    "        shear_range=0.2,\n",
    "        zoom_range=0.2,\n",
    "        horizontal_flip=True,\n",
    "        fill_mode='nearest')\n",
    "\n",
    "test_datagen = ImageDataGenerator(rescale=1./255)"
   ]
  },
  {
   "cell_type": "code",
   "execution_count": 3,
   "metadata": {
    "collapsed": false
   },
   "outputs": [
    {
     "name": "stdout",
     "output_type": "stream",
     "text": [
      "Found 24580 images belonging to 257 classes.\n",
      "Found 6027 images belonging to 257 classes.\n"
     ]
    }
   ],
   "source": [
    "train_generator = train_datagen.flow_from_directory(\n",
    "    '../data/data_train/',     \n",
    "    class_mode='categorical',           \n",
    "    target_size=(224, 224),\n",
    "    batch_size=50)\n",
    "\n",
    "validation_generator = test_datagen.flow_from_directory(\n",
    "    '../data/data_test/',  \n",
    "    class_mode='categorical',\n",
    "    target_size=(224, 224),\n",
    "    batch_size=50)"
   ]
  },
  {
   "cell_type": "code",
   "execution_count": 4,
   "metadata": {
    "collapsed": true
   },
   "outputs": [],
   "source": [
    "tbCallBack = keras.callbacks.TensorBoard(log_dir='./logs/run-2', histogram_freq=0, write_graph=True, write_images=True)"
   ]
  },
  {
   "cell_type": "code",
   "execution_count": 5,
   "metadata": {
    "collapsed": false
   },
   "outputs": [
    {
     "name": "stdout",
     "output_type": "stream",
     "text": [
      "_________________________________________________________________\n",
      "Layer (type)                 Output Shape              Param #   \n",
      "=================================================================\n",
      "image_input (InputLayer)     (None, 224, 224, 3)       0         \n",
      "_________________________________________________________________\n",
      "vgg16 (Model)                multiple                  14714688  \n",
      "_________________________________________________________________\n",
      "flatten (Flatten)            (None, 25088)             0         \n",
      "_________________________________________________________________\n",
      "fc1 (Dense)                  (None, 4096)              102764544 \n",
      "_________________________________________________________________\n",
      "fc2 (Dense)                  (None, 4096)              16781312  \n",
      "_________________________________________________________________\n",
      "predictions (Dense)          (None, 257)               1052929   \n",
      "=================================================================\n",
      "Total params: 135,313,473\n",
      "Trainable params: 122,958,593\n",
      "Non-trainable params: 12,354,880\n",
      "_________________________________________________________________\n"
     ]
    }
   ],
   "source": [
    "#Get back the convolutional part of a VGG network trained on ImageNet\n",
    "model_vgg16_conv = VGG16(weights='imagenet', include_top=False)\n",
    "model_vgg16_conv.layers[1].trainable = False\n",
    "model_vgg16_conv.layers[2].trainable = False\n",
    "model_vgg16_conv.layers[4].trainable = False\n",
    "model_vgg16_conv.layers[5].trainable = False\n",
    "model_vgg16_conv.layers[7].trainable = False\n",
    "model_vgg16_conv.layers[8].trainable = False\n",
    "model_vgg16_conv.layers[9].trainable = False\n",
    "model_vgg16_conv.layers[11].trainable = False\n",
    "model_vgg16_conv.layers[12].trainable = False\n",
    "model_vgg16_conv.layers[13].trainable = False\n",
    "model_vgg16_conv.layers[15].trainable = False\n",
    "model_vgg16_conv.layers[16].trainable = False\n",
    "model_vgg16_conv.layers[18].trainable = False\n",
    "\n",
    "input = Input(shape=(224, 224, 3), name='image_input')\n",
    "\n",
    "output_vgg16_conv = model_vgg16_conv(input)\n",
    "\n",
    "x = Flatten(name='flatten')(output_vgg16_conv)\n",
    "x = Dense(4096, activation='relu', name='fc1')(x)\n",
    "x = Dense(4096, activation='relu', name='fc2')(x)\n",
    "x = Dense(257, activation='softmax', name='predictions')(x)\n",
    "\n",
    "model = Model(inputs = input, outputs=x)\n",
    "\n",
    "model.summary()"
   ]
  },
  {
   "cell_type": "code",
   "execution_count": 6,
   "metadata": {
    "collapsed": true
   },
   "outputs": [],
   "source": [
    "def top_5_categorical_accuracy(y_true, y_pred):\n",
    "    return top_k_categorical_accuracy(y_true, y_pred, k=5)"
   ]
  },
  {
   "cell_type": "code",
   "execution_count": 7,
   "metadata": {
    "collapsed": false
   },
   "outputs": [],
   "source": [
    "sgd = SGD(lr=0.01, decay=0.0005, momentum=0.9, nesterov=True)\n",
    "model.compile(loss='categorical_crossentropy',\n",
    "              optimizer=sgd,\n",
    "              metrics=['accuracy', top_5_categorical_accuracy])"
   ]
  },
  {
   "cell_type": "code",
   "execution_count": 8,
   "metadata": {
    "collapsed": false
   },
   "outputs": [
    {
     "name": "stdout",
     "output_type": "stream",
     "text": [
      "Epoch 1/10\n",
      "606s - loss: 3.6649 - acc: 0.2477 - top_5_categorical_accuracy: 0.4382 - val_loss: 2.2916 - val_acc: 0.4641 - val_top_5_categorical_accuracy: 0.7168\n",
      "Epoch 2/10\n",
      "596s - loss: 2.4062 - acc: 0.4437 - top_5_categorical_accuracy: 0.6855 - val_loss: 1.9533 - val_acc: 0.5429 - val_top_5_categorical_accuracy: 0.7768\n",
      "Epoch 3/10\n",
      "596s - loss: 1.9823 - acc: 0.5266 - top_5_categorical_accuracy: 0.7645 - val_loss: 1.7634 - val_acc: 0.5771 - val_top_5_categorical_accuracy: 0.8082\n",
      "Epoch 4/10\n",
      "596s - loss: 1.7079 - acc: 0.5847 - top_5_categorical_accuracy: 0.8083 - val_loss: 1.6106 - val_acc: 0.6182 - val_top_5_categorical_accuracy: 0.8303\n",
      "Epoch 5/10\n",
      "596s - loss: 1.5144 - acc: 0.6229 - top_5_categorical_accuracy: 0.8395 - val_loss: 1.5492 - val_acc: 0.6300 - val_top_5_categorical_accuracy: 0.8371\n",
      "Epoch 6/10\n",
      "596s - loss: 1.3497 - acc: 0.6559 - top_5_categorical_accuracy: 0.8651 - val_loss: 1.4821 - val_acc: 0.6497 - val_top_5_categorical_accuracy: 0.8472\n",
      "Epoch 7/10\n",
      "596s - loss: 1.2180 - acc: 0.6832 - top_5_categorical_accuracy: 0.8835 - val_loss: 1.4728 - val_acc: 0.6487 - val_top_5_categorical_accuracy: 0.8543\n",
      "Epoch 8/10\n",
      "596s - loss: 1.1082 - acc: 0.7113 - top_5_categorical_accuracy: 0.8969 - val_loss: 1.4827 - val_acc: 0.6590 - val_top_5_categorical_accuracy: 0.8429\n",
      "Epoch 9/10\n",
      "596s - loss: 1.0018 - acc: 0.7348 - top_5_categorical_accuracy: 0.9140 - val_loss: 1.4390 - val_acc: 0.6675 - val_top_5_categorical_accuracy: 0.8600\n",
      "Epoch 10/10\n",
      "596s - loss: 0.9134 - acc: 0.7530 - top_5_categorical_accuracy: 0.9238 - val_loss: 1.4609 - val_acc: 0.6610 - val_top_5_categorical_accuracy: 0.8586\n"
     ]
    },
    {
     "data": {
      "text/plain": [
       "<keras.callbacks.History at 0x7fda54369f28>"
      ]
     },
     "execution_count": 8,
     "metadata": {},
     "output_type": "execute_result"
    }
   ],
   "source": [
    "model.fit_generator(\n",
    "    generator=train_generator,\n",
    "    steps_per_epoch=492,\n",
    "    validation_data=validation_generator,\n",
    "    validation_steps=121,\n",
    "    epochs=10,\n",
    "    callbacks=[tbCallBack],\n",
    "    verbose=2)"
   ]
  },
  {
   "cell_type": "code",
   "execution_count": 9,
   "metadata": {
    "collapsed": true
   },
   "outputs": [],
   "source": [
    "model.save('../data/vgg16_model_final.h5')"
   ]
  }
 ],
 "metadata": {
  "kernelspec": {
   "display_name": "Python 3",
   "language": "python",
   "name": "python3"
  },
  "language_info": {
   "codemirror_mode": {
    "name": "ipython",
    "version": 3
   },
   "file_extension": ".py",
   "mimetype": "text/x-python",
   "name": "python",
   "nbconvert_exporter": "python",
   "pygments_lexer": "ipython3",
   "version": "3.6.0"
  }
 },
 "nbformat": 4,
 "nbformat_minor": 2
}
