{
 "cells": [
  {
   "cell_type": "markdown",
   "metadata": {},
   "source": [
    "# 2. Data Preparation - Split-Train-Test"
   ]
  },
  {
   "cell_type": "markdown",
   "metadata": {},
   "source": [
    "Because the big data won't fit in memory we have to spilt it on folder level, Keras takes than the images from the folders and loads it batch-wise into memory."
   ]
  },
  {
   "cell_type": "code",
   "execution_count": 85,
   "metadata": {
    "collapsed": true,
    "deletable": true,
    "editable": true
   },
   "outputs": [],
   "source": [
    "from shutil import copyfile\n",
    "import os as os"
   ]
  },
  {
   "cell_type": "code",
   "execution_count": 86,
   "metadata": {
    "collapsed": false,
    "deletable": true,
    "editable": true
   },
   "outputs": [],
   "source": [
    "def split_train_test(path, train_path, test_path, test_size=0.2):\n",
    "    \"\"\"\n",
    "        Splits the data in a given folder into two seperate sets. \n",
    "        The folder structure should be:\n",
    "            class1\n",
    "                - img1.jpg\n",
    "                - img2.jpg\n",
    "            class2\n",
    "                -....\n",
    "        \n",
    "        Args:\n",
    "            path (str): path where the data is located.\n",
    "            train_path (str): path to store the training data\n",
    "            test_path (str): path to store the test data\n",
    "        \n",
    "    \"\"\"\n",
    "    \n",
    "    for class_folder in os.listdir(path):\n",
    "        class_folder_path = os.path.join(path, class_folder)\n",
    "        images = [i for i in os.listdir(class_folder_path) if i.endswith('.jpg')]\n",
    "        image_count = len(images)\n",
    "        image_test_count = int(image_count * test_size)\n",
    "        images_test = images[-image_test_count:] \n",
    "        image_train_count = image_count - image_test_count\n",
    "        images_train = images[0:image_train_count]\n",
    "        \n",
    "        class_folder_path_train = os.path.join(train_path, class_folder)\n",
    "        os.mkdir(class_folder_path_train)\n",
    "        for image in images_train:\n",
    "            image_path_src = os.path.join(class_folder_path, image)\n",
    "            image_path_dest = os.path.join(class_folder_path_train, image)\n",
    "            copyfile(image_path_src, image_path_dest)\n",
    "        \n",
    "        class_folder_path_test = os.path.join(test_path, class_folder)\n",
    "        os.mkdir(class_folder_path_test)\n",
    "        for image in images_test:\n",
    "            image_path_src = os.path.join(class_folder_path, image)\n",
    "            image_path_dest = os.path.join(class_folder_path_test, image)\n",
    "            copyfile(image_path_src, image_path_dest)"
   ]
  },
  {
   "cell_type": "code",
   "execution_count": 88,
   "metadata": {
    "collapsed": false,
    "deletable": true,
    "editable": true
   },
   "outputs": [],
   "source": [
    "split_train_test('../data/data_resized_small/', '../data/data_resized_small_train/', '../data/data_resized_small_test/')"
   ]
  }
 ],
 "metadata": {
  "kernelspec": {
   "display_name": "Python 3",
   "language": "python",
   "name": "python3"
  },
  "language_info": {
   "codemirror_mode": {
    "name": "ipython",
    "version": 3
   },
   "file_extension": ".py",
   "mimetype": "text/x-python",
   "name": "python",
   "nbconvert_exporter": "python",
   "pygments_lexer": "ipython3",
   "version": "3.6.0"
  }
 },
 "nbformat": 4,
 "nbformat_minor": 2
}
