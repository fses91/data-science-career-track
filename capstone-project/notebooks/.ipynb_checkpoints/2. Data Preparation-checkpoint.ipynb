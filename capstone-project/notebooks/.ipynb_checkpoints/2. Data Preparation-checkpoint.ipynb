{
 "cells": [
  {
   "cell_type": "markdown",
   "metadata": {
    "deletable": true,
    "editable": true
   },
   "source": [
    "# 2. Data Preparation"
   ]
  },
  {
   "cell_type": "markdown",
   "metadata": {
    "deletable": true,
    "editable": true
   },
   "source": [
    "The methods provided here allows you to convert the image data into numpy arrays and to store it in npz-format. It makes it a lot easier for sklear to have the data prepared in numpy arrays, so we can easily load the data and train models."
   ]
  },
  {
   "cell_type": "code",
   "execution_count": 7,
   "metadata": {
    "collapsed": false,
    "deletable": true,
    "editable": true
   },
   "outputs": [],
   "source": [
    "# import libraries\n",
    "import PIL as pil\n",
    "import os as os\n",
    "import numpy as np\n",
    "import pandas as pd\n",
    "import humanize as hm\n",
    "\n",
    "from skimage import data, io, filters, transform\n",
    "from sklearn.svm import SVC\n",
    "from sklearn.model_selection import GridSearchCV\n",
    "from sklearn.model_selection import train_test_split"
   ]
  },
  {
   "cell_type": "code",
   "execution_count": 8,
   "metadata": {
    "collapsed": false,
    "deletable": true,
    "editable": true
   },
   "outputs": [
    {
     "data": {
      "text/plain": [
       "35226"
      ]
     },
     "execution_count": 8,
     "metadata": {},
     "output_type": "execute_result"
    }
   ],
   "source": [
    "n_classes = 256\n",
    "image_count = 30607\n",
    "image_resize_factor = 0.3\n",
    "image_width = int(382 * image_resize_factor)\n",
    "image_height = int(345 * image_resize_factor)\n",
    "image_pixels = image_height * image_width * 3\n",
    "image_pixels"
   ]
  },
  {
   "cell_type": "code",
   "execution_count": 9,
   "metadata": {
    "collapsed": false,
    "deletable": true,
    "editable": true
   },
   "outputs": [],
   "source": [
    "def class_to_data(path, label):\n",
    "    \"\"\"\n",
    "    Converts a class of images in a given path into a two numpy arrays\n",
    "    \n",
    "    Args:\n",
    "        path (str): The path of the folder which contains the images of one class.\n",
    "        label (int): The label for the images of the class\n",
    "    \n",
    "    Returns:\n",
    "        X (numpy.ndarray): Array containing a image in each row.\n",
    "        y (numpy.ndarray): Array containing a label in each row.\n",
    "    \"\"\"\n",
    "    \n",
    "    \n",
    "    X = np.empty((0, image_width, image_height, 3), dtype=np.int8)\n",
    "    y = np.empty(0, dtype=np.int8)\n",
    "\n",
    "    for image in sorted(os.listdir(path)):\n",
    "        if image.endswith('.jpg'):\n",
    "            try:\n",
    "                image_path = os.path.join(path, image)\n",
    "                im = io.imread(image_path)\n",
    "                \n",
    "                im = transform.resize(im, (image_width, image_height), mode='reflect')\n",
    "                X = np.append(X, [im], axis=0)\n",
    "                y = np.append(y, label)\n",
    "            except:\n",
    "                 print('Error: Image is not RGB:', image_path)\n",
    "                 continue\n",
    "    return X, y"
   ]
  },
  {
   "cell_type": "code",
   "execution_count": 10,
   "metadata": {
    "collapsed": false,
    "deletable": true,
    "editable": true
   },
   "outputs": [],
   "source": [
    "def classes_to_data(path, n_classes=1):\n",
    "    \"\"\"\n",
    "    Converts classes of images in a given path into a two numpy arrays.\n",
    "    \n",
    "    Args:\n",
    "        path (str): The path of the folder which contains the images of one class.\n",
    "        n_classes (int): The number of classes to use.\n",
    "    \n",
    "    Returns:\n",
    "        X (numpy.ndarray): Array containing a image in each row.\n",
    "        y (numpy.ndarray): Array containing a label in each row.\n",
    "    \"\"\"\n",
    "    X = np.empty((0, image_width, image_height, 3), dtype=np.int8)\n",
    "    y = np.empty(0, dtype=np.int8)\n",
    "    label = 0\n",
    "    \n",
    "    for folder in sorted(os.listdir(path)):\n",
    "        print(label)\n",
    "        class_path = os.path.join(path, folder)\n",
    "        images, targets = class_to_data(class_path, label)\n",
    "        X = np.append(X, images, axis=0)\n",
    "        y = np.append(y, targets)\n",
    "        label += 1\n",
    "        if label > n_classes:\n",
    "            break\n",
    "    return X, y"
   ]
  },
  {
   "cell_type": "markdown",
   "metadata": {
    "deletable": true,
    "editable": true
   },
   "source": [
    "Generate a new smaller dataset which takes the first 10 classes. We will resize the data on 30% of their size because of performance. After we found a good model we will take the whole data and train it in the Google Cloud."
   ]
  },
  {
   "cell_type": "code",
   "execution_count": 11,
   "metadata": {
    "collapsed": false,
    "deletable": true,
    "editable": true
   },
   "outputs": [
    {
     "name": "stdout",
     "output_type": "stream",
     "text": [
      "0\n",
      "Error: Image is not RGB: ../data/data_resized/001.ak47/001_0016.jpg\n",
      "1\n",
      "2\n",
      "3\n",
      "4\n",
      "5\n",
      "Error: Image is not RGB: ../data/data_resized/006.basketball-hoop/006_0004.jpg\n",
      "Error: Image is not RGB: ../data/data_resized/006.basketball-hoop/006_0005.jpg\n",
      "Error: Image is not RGB: ../data/data_resized/006.basketball-hoop/006_0007.jpg\n",
      "Error: Image is not RGB: ../data/data_resized/006.basketball-hoop/006_0063.jpg\n",
      "Error: Image is not RGB: ../data/data_resized/006.basketball-hoop/006_0075.jpg\n",
      "6\n",
      "Error: Image is not RGB: ../data/data_resized/007.bat/007_0082.jpg\n",
      "7\n",
      "Error: Image is not RGB: ../data/data_resized/008.bathtub/008_0137.jpg\n",
      "8\n",
      "9\n",
      "10\n",
      "11\n",
      "12\n",
      "Error: Image is not RGB: ../data/data_resized/013.birdbath/013_0020.jpg\n",
      "13\n",
      "Error: Image is not RGB: ../data/data_resized/014.blimp/014_0022.jpg\n",
      "14\n",
      "15\n",
      "16\n",
      "Error: Image is not RGB: ../data/data_resized/017.bowling-ball/017_0070.jpg\n",
      "17\n",
      "18\n",
      "19\n",
      "Error: Image is not RGB: ../data/data_resized/020.brain-101/020_0009.jpg\n",
      "Error: Image is not RGB: ../data/data_resized/020.brain-101/020_0011.jpg\n",
      "Error: Image is not RGB: ../data/data_resized/020.brain-101/020_0012.jpg\n",
      "Error: Image is not RGB: ../data/data_resized/020.brain-101/020_0013.jpg\n",
      "Error: Image is not RGB: ../data/data_resized/020.brain-101/020_0014.jpg\n",
      "Error: Image is not RGB: ../data/data_resized/020.brain-101/020_0040.jpg\n",
      "Error: Image is not RGB: ../data/data_resized/020.brain-101/020_0041.jpg\n",
      "Error: Image is not RGB: ../data/data_resized/020.brain-101/020_0053.jpg\n",
      "Error: Image is not RGB: ../data/data_resized/020.brain-101/020_0054.jpg\n",
      "Error: Image is not RGB: ../data/data_resized/020.brain-101/020_0059.jpg\n",
      "Error: Image is not RGB: ../data/data_resized/020.brain-101/020_0076.jpg\n",
      "Error: Image is not RGB: ../data/data_resized/020.brain-101/020_0080.jpg\n",
      "Error: Image is not RGB: ../data/data_resized/020.brain-101/020_0081.jpg\n",
      "20\n",
      "Error: Image is not RGB: ../data/data_resized/021.breadmaker/021_0103.jpg\n",
      "21\n",
      "Error: Image is not RGB: ../data/data_resized/022.buddha-101/022_0009.jpg\n",
      "Error: Image is not RGB: ../data/data_resized/022.buddha-101/022_0028.jpg\n",
      "Error: Image is not RGB: ../data/data_resized/022.buddha-101/022_0047.jpg\n",
      "Error: Image is not RGB: ../data/data_resized/022.buddha-101/022_0090.jpg\n",
      "Error: Image is not RGB: ../data/data_resized/022.buddha-101/022_0094.jpg\n",
      "22\n",
      "23\n",
      "24\n",
      "25\n",
      "26\n",
      "27\n",
      "Error: Image is not RGB: ../data/data_resized/028.camel/028_0020.jpg\n",
      "Error: Image is not RGB: ../data/data_resized/028.camel/028_0031.jpg\n",
      "28\n",
      "29\n",
      "Error: Image is not RGB: ../data/data_resized/030.canoe/030_0009.jpg\n",
      "Error: Image is not RGB: ../data/data_resized/030.canoe/030_0097.jpg\n",
      "30\n",
      "Error: Image is not RGB: ../data/data_resized/031.car-tire/031_0042.jpg\n",
      "31\n",
      "Error: Image is not RGB: ../data/data_resized/032.cartman/032_0047.jpg\n",
      "Error: Image is not RGB: ../data/data_resized/032.cartman/032_0055.jpg\n",
      "Error: Image is not RGB: ../data/data_resized/032.cartman/032_0098.jpg\n",
      "32\n",
      "33\n",
      "Error: Image is not RGB: ../data/data_resized/034.centipede/034_0059.jpg\n",
      "Error: Image is not RGB: ../data/data_resized/034.centipede/034_0084.jpg\n",
      "34\n",
      "35\n",
      "Error: Image is not RGB: ../data/data_resized/036.chandelier-101/036_0039.jpg\n",
      "Error: Image is not RGB: ../data/data_resized/036.chandelier-101/036_0045.jpg\n",
      "36\n",
      "37\n",
      "Error: Image is not RGB: ../data/data_resized/038.chimp/038_0053.jpg\n",
      "38\n",
      "39\n",
      "Error: Image is not RGB: ../data/data_resized/040.cockroach/040_0049.jpg\n",
      "Error: Image is not RGB: ../data/data_resized/040.cockroach/040_0050.jpg\n",
      "Error: Image is not RGB: ../data/data_resized/040.cockroach/040_0119.jpg\n",
      "Error: Image is not RGB: ../data/data_resized/040.cockroach/040_0123.jpg\n",
      "40\n",
      "41\n",
      "42\n",
      "Error: Image is not RGB: ../data/data_resized/043.coin/043_0023.jpg\n",
      "Error: Image is not RGB: ../data/data_resized/043.coin/043_0042.jpg\n",
      "43\n",
      "Error: Image is not RGB: ../data/data_resized/044.comet/044_0006.jpg\n",
      "Error: Image is not RGB: ../data/data_resized/044.comet/044_0011.jpg\n",
      "Error: Image is not RGB: ../data/data_resized/044.comet/044_0013.jpg\n",
      "Error: Image is not RGB: ../data/data_resized/044.comet/044_0021.jpg\n",
      "Error: Image is not RGB: ../data/data_resized/044.comet/044_0036.jpg\n",
      "Error: Image is not RGB: ../data/data_resized/044.comet/044_0038.jpg\n",
      "Error: Image is not RGB: ../data/data_resized/044.comet/044_0041.jpg\n",
      "Error: Image is not RGB: ../data/data_resized/044.comet/044_0049.jpg\n",
      "Error: Image is not RGB: ../data/data_resized/044.comet/044_0052.jpg\n",
      "Error: Image is not RGB: ../data/data_resized/044.comet/044_0053.jpg\n",
      "Error: Image is not RGB: ../data/data_resized/044.comet/044_0057.jpg\n",
      "Error: Image is not RGB: ../data/data_resized/044.comet/044_0058.jpg\n",
      "Error: Image is not RGB: ../data/data_resized/044.comet/044_0084.jpg\n",
      "Error: Image is not RGB: ../data/data_resized/044.comet/044_0087.jpg\n",
      "Error: Image is not RGB: ../data/data_resized/044.comet/044_0095.jpg\n",
      "Error: Image is not RGB: ../data/data_resized/044.comet/044_0096.jpg\n",
      "Error: Image is not RGB: ../data/data_resized/044.comet/044_0098.jpg\n",
      "Error: Image is not RGB: ../data/data_resized/044.comet/044_0110.jpg\n",
      "Error: Image is not RGB: ../data/data_resized/044.comet/044_0111.jpg\n",
      "Error: Image is not RGB: ../data/data_resized/044.comet/044_0112.jpg\n",
      "44\n",
      "Error: Image is not RGB: ../data/data_resized/045.computer-keyboard/045_0053.jpg\n",
      "45\n",
      "46\n",
      "47\n",
      "48\n",
      "49\n",
      "50\n"
     ]
    }
   ],
   "source": [
    "X, y = classes_to_data('../data/data_resized/', n_classes=50)"
   ]
  },
  {
   "cell_type": "markdown",
   "metadata": {
    "deletable": true,
    "editable": true
   },
   "source": [
    "Save the 10 classes with labels as npz-file:"
   ]
  },
  {
   "cell_type": "code",
   "execution_count": 12,
   "metadata": {
    "collapsed": false,
    "deletable": true,
    "editable": true
   },
   "outputs": [],
   "source": [
    "np.savez('../data/image_data_50', X, y)"
   ]
  }
 ],
 "metadata": {
  "kernelspec": {
   "display_name": "Python 3",
   "language": "python",
   "name": "python3"
  },
  "language_info": {
   "codemirror_mode": {
    "name": "ipython",
    "version": 3
   },
   "file_extension": ".py",
   "mimetype": "text/x-python",
   "name": "python",
   "nbconvert_exporter": "python",
   "pygments_lexer": "ipython3",
   "version": "3.6.0"
  }
 },
 "nbformat": 4,
 "nbformat_minor": 2
}
