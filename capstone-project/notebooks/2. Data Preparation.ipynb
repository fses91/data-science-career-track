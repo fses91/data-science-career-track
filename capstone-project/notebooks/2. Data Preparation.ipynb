{
 "cells": [
  {
   "cell_type": "markdown",
   "metadata": {
    "deletable": true,
    "editable": true
   },
   "source": [
    "# 2. Data Preparation"
   ]
  },
  {
   "cell_type": "markdown",
   "metadata": {
    "deletable": true,
    "editable": true
   },
   "source": [
    "The methods provided here allows you to convert the image data into numpy arrays and to store it in npz-format. It makes it a lot easier for sklear to have the data prepared in numpy arrays, so we can easily load the data and train models."
   ]
  },
  {
   "cell_type": "code",
   "execution_count": 1,
   "metadata": {
    "collapsed": false,
    "deletable": true,
    "editable": true
   },
   "outputs": [],
   "source": [
    "# import libraries\n",
    "import PIL as pil\n",
    "import os as os\n",
    "import numpy as np\n",
    "import pandas as pd\n",
    "import humanize as hm\n",
    "\n",
    "from skimage import data, io, filters, transform\n",
    "from sklearn.svm import SVC\n",
    "from sklearn.model_selection import GridSearchCV\n",
    "from sklearn.model_selection import train_test_split"
   ]
  },
  {
   "cell_type": "code",
   "execution_count": 2,
   "metadata": {
    "collapsed": false,
    "deletable": true,
    "editable": true
   },
   "outputs": [
    {
     "data": {
      "text/plain": [
       "35226"
      ]
     },
     "execution_count": 2,
     "metadata": {},
     "output_type": "execute_result"
    }
   ],
   "source": [
    "n_classes = 256\n",
    "image_count = 30607\n",
    "image_resize_factor = 0.3\n",
    "image_width = int(382 * image_resize_factor)\n",
    "image_height = int(345 * image_resize_factor)\n",
    "image_pixels = image_height * image_width * 3\n",
    "image_pixels"
   ]
  },
  {
   "cell_type": "code",
   "execution_count": 3,
   "metadata": {
    "collapsed": false,
    "deletable": true,
    "editable": true
   },
   "outputs": [],
   "source": [
    "def class_to_data(path, label):\n",
    "    \"\"\"\n",
    "    Converts a class of images in a given path into a two numpy arrays\n",
    "    \n",
    "    Args:\n",
    "        path (str): The path of the folder which contains the images of one class.\n",
    "        label (int): The label for the images of the class\n",
    "    \n",
    "    Returns:\n",
    "        X (numpy.ndarray): Array containing a image in each row.\n",
    "        y (numpy.ndarray): Array containing a label in each row.\n",
    "    \"\"\"\n",
    "    \n",
    "    \n",
    "    X = np.empty((0, image_width, image_height, 3), dtype=np.int8)\n",
    "    y = np.empty(0, dtype=np.int8)\n",
    "\n",
    "    for image in os.listdir(path):\n",
    "        if image.endswith('.jpg'):\n",
    "            try:\n",
    "                image_path = os.path.join(path, image)\n",
    "                im = io.imread(image_path)\n",
    "                \n",
    "                im = transform.resize(im, (image_width, image_height), mode='reflect')\n",
    "                X = np.append(X, [im], axis=0)\n",
    "                y = np.append(y, label)\n",
    "            except:\n",
    "                 print('Error: Image is not RGB:', image_path)\n",
    "                 continue\n",
    "    return X, y"
   ]
  },
  {
   "cell_type": "code",
   "execution_count": 4,
   "metadata": {
    "collapsed": false,
    "deletable": true,
    "editable": true
   },
   "outputs": [],
   "source": [
    "def classes_to_data(path, n_classes=1):\n",
    "    \"\"\"\n",
    "    Converts classes of images in a given path into a two numpy arrays.\n",
    "    \n",
    "    Args:\n",
    "        path (str): The path of the folder which contains the images of one class.\n",
    "        n_classes (int): The number of classes to use.\n",
    "    \n",
    "    Returns:\n",
    "        X (numpy.ndarray): Array containing a image in each row.\n",
    "        y (numpy.ndarray): Array containing a label in each row.\n",
    "    \"\"\"\n",
    "    X = np.empty((0, image_width, image_height, 3), dtype=np.int8)\n",
    "    y = np.empty(0, dtype=np.int8)\n",
    "    label = 1\n",
    "    \n",
    "    for folder in os.listdir(path):\n",
    "        class_path = os.path.join(path, folder)\n",
    "        images, targets = class_to_data(class_path, label)\n",
    "        X = np.append(X, images, axis=0)\n",
    "        y = np.append(y, targets)\n",
    "        label += 1\n",
    "        if label > n_classes:\n",
    "            break\n",
    "    return X, y"
   ]
  },
  {
   "cell_type": "markdown",
   "metadata": {
    "deletable": true,
    "editable": true
   },
   "source": [
    "Generate a new smaller dataset which takes the first 10 classes. We will resize the data on 30% of their size because of performance. After we found a good model we will take the whole data and train it in the Google Cloud."
   ]
  },
  {
   "cell_type": "code",
   "execution_count": null,
   "metadata": {
    "collapsed": false,
    "deletable": true,
    "editable": true
   },
   "outputs": [
    {
     "name": "stdout",
     "output_type": "stream",
     "text": [
      "Error: Image is not RGB: ../data/data_resized/197.speed-boat/197_0037.jpg\n",
      "Error: Image is not RGB: ../data/data_resized/144.minotaur/144_0016.jpg\n",
      "Error: Image is not RGB: ../data/data_resized/144.minotaur/144_0082.jpg\n",
      "Error: Image is not RGB: ../data/data_resized/144.minotaur/144_0036.jpg\n",
      "Error: Image is not RGB: ../data/data_resized/144.minotaur/144_0054.jpg\n",
      "Error: Image is not RGB: ../data/data_resized/144.minotaur/144_0070.jpg\n",
      "Error: Image is not RGB: ../data/data_resized/144.minotaur/144_0073.jpg\n",
      "Error: Image is not RGB: ../data/data_resized/144.minotaur/144_0023.jpg\n",
      "Error: Image is not RGB: ../data/data_resized/201.starfish-101/201_0044.jpg\n",
      "Error: Image is not RGB: ../data/data_resized/201.starfish-101/201_0047.jpg\n",
      "Error: Image is not RGB: ../data/data_resized/201.starfish-101/201_0071.jpg\n",
      "Error: Image is not RGB: ../data/data_resized/201.starfish-101/201_0027.jpg\n",
      "Error: Image is not RGB: ../data/data_resized/137.mars/137_0075.jpg\n",
      "Error: Image is not RGB: ../data/data_resized/038.chimp/038_0053.jpg\n",
      "Error: Image is not RGB: ../data/data_resized/017.bowling-ball/017_0070.jpg\n",
      "Error: Image is not RGB: ../data/data_resized/031.car-tire/031_0042.jpg\n",
      "Error: Image is not RGB: ../data/data_resized/233.tuning-fork/233_0063.jpg\n",
      "Error: Image is not RGB: ../data/data_resized/172.revolver-101/172_0065.jpg\n",
      "Error: Image is not RGB: ../data/data_resized/172.revolver-101/172_0085.jpg\n",
      "Error: Image is not RGB: ../data/data_resized/172.revolver-101/172_0032.jpg\n",
      "Error: Image is not RGB: ../data/data_resized/172.revolver-101/172_0043.jpg\n",
      "Error: Image is not RGB: ../data/data_resized/172.revolver-101/172_0037.jpg\n",
      "Error: Image is not RGB: ../data/data_resized/172.revolver-101/172_0041.jpg\n",
      "Error: Image is not RGB: ../data/data_resized/172.revolver-101/172_0078.jpg\n",
      "Error: Image is not RGB: ../data/data_resized/172.revolver-101/172_0042.jpg\n",
      "Error: Image is not RGB: ../data/data_resized/172.revolver-101/172_0059.jpg\n",
      "Error: Image is not RGB: ../data/data_resized/172.revolver-101/172_0086.jpg\n",
      "Error: Image is not RGB: ../data/data_resized/172.revolver-101/172_0056.jpg\n",
      "Error: Image is not RGB: ../data/data_resized/234.tweezer/234_0044.jpg\n",
      "Error: Image is not RGB: ../data/data_resized/234.tweezer/234_0055.jpg\n",
      "Error: Image is not RGB: ../data/data_resized/234.tweezer/234_0070.jpg\n",
      "Error: Image is not RGB: ../data/data_resized/234.tweezer/234_0001.jpg\n",
      "Error: Image is not RGB: ../data/data_resized/234.tweezer/234_0031.jpg\n",
      "Error: Image is not RGB: ../data/data_resized/234.tweezer/234_0043.jpg\n",
      "Error: Image is not RGB: ../data/data_resized/234.tweezer/234_0104.jpg\n",
      "Error: Image is not RGB: ../data/data_resized/234.tweezer/234_0020.jpg\n",
      "Error: Image is not RGB: ../data/data_resized/145.motorbikes-101/145_0771.jpg\n",
      "Error: Image is not RGB: ../data/data_resized/145.motorbikes-101/145_0511.jpg\n",
      "Error: Image is not RGB: ../data/data_resized/145.motorbikes-101/145_0576.jpg\n",
      "Error: Image is not RGB: ../data/data_resized/145.motorbikes-101/145_0659.jpg\n",
      "Error: Image is not RGB: ../data/data_resized/145.motorbikes-101/145_0376.jpg\n",
      "Error: Image is not RGB: ../data/data_resized/145.motorbikes-101/145_0570.jpg\n",
      "Error: Image is not RGB: ../data/data_resized/145.motorbikes-101/145_0512.jpg\n",
      "Error: Image is not RGB: ../data/data_resized/145.motorbikes-101/145_0640.jpg\n",
      "Error: Image is not RGB: ../data/data_resized/145.motorbikes-101/145_0561.jpg\n",
      "Error: Image is not RGB: ../data/data_resized/145.motorbikes-101/145_0754.jpg\n",
      "Error: Image is not RGB: ../data/data_resized/145.motorbikes-101/145_0679.jpg\n",
      "Error: Image is not RGB: ../data/data_resized/036.chandelier-101/036_0045.jpg\n",
      "Error: Image is not RGB: ../data/data_resized/036.chandelier-101/036_0039.jpg\n",
      "Error: Image is not RGB: ../data/data_resized/131.lightbulb/131_0003.jpg\n",
      "Error: Image is not RGB: ../data/data_resized/131.lightbulb/131_0073.jpg\n",
      "Error: Image is not RGB: ../data/data_resized/044.comet/044_0111.jpg\n",
      "Error: Image is not RGB: ../data/data_resized/044.comet/044_0052.jpg\n",
      "Error: Image is not RGB: ../data/data_resized/044.comet/044_0013.jpg\n",
      "Error: Image is not RGB: ../data/data_resized/044.comet/044_0041.jpg\n",
      "Error: Image is not RGB: ../data/data_resized/044.comet/044_0095.jpg\n",
      "Error: Image is not RGB: ../data/data_resized/044.comet/044_0021.jpg\n",
      "Error: Image is not RGB: ../data/data_resized/044.comet/044_0006.jpg\n",
      "Error: Image is not RGB: ../data/data_resized/044.comet/044_0058.jpg\n",
      "Error: Image is not RGB: ../data/data_resized/044.comet/044_0011.jpg\n",
      "Error: Image is not RGB: ../data/data_resized/044.comet/044_0084.jpg\n",
      "Error: Image is not RGB: ../data/data_resized/044.comet/044_0057.jpg\n",
      "Error: Image is not RGB: ../data/data_resized/044.comet/044_0096.jpg\n",
      "Error: Image is not RGB: ../data/data_resized/044.comet/044_0087.jpg\n",
      "Error: Image is not RGB: ../data/data_resized/044.comet/044_0098.jpg\n",
      "Error: Image is not RGB: ../data/data_resized/044.comet/044_0049.jpg\n",
      "Error: Image is not RGB: ../data/data_resized/044.comet/044_0110.jpg\n",
      "Error: Image is not RGB: ../data/data_resized/044.comet/044_0038.jpg\n",
      "Error: Image is not RGB: ../data/data_resized/044.comet/044_0112.jpg\n",
      "Error: Image is not RGB: ../data/data_resized/044.comet/044_0053.jpg\n",
      "Error: Image is not RGB: ../data/data_resized/044.comet/044_0036.jpg\n",
      "Error: Image is not RGB: ../data/data_resized/096.hammock/096_0092.jpg\n",
      "Error: Image is not RGB: ../data/data_resized/105.horse/105_0211.jpg\n",
      "Error: Image is not RGB: ../data/data_resized/104.homer-simpson/104_0056.jpg\n",
      "Error: Image is not RGB: ../data/data_resized/104.homer-simpson/104_0034.jpg\n",
      "Error: Image is not RGB: ../data/data_resized/168.raccoon/168_0018.jpg\n",
      "Error: Image is not RGB: ../data/data_resized/013.birdbath/013_0020.jpg\n",
      "Error: Image is not RGB: ../data/data_resized/139.megaphone/139_0036.jpg\n",
      "Error: Image is not RGB: ../data/data_resized/060.duck/060_0049.jpg\n",
      "Error: Image is not RGB: ../data/data_resized/034.centipede/034_0059.jpg\n",
      "Error: Image is not RGB: ../data/data_resized/034.centipede/034_0084.jpg\n",
      "Error: Image is not RGB: ../data/data_resized/223.top-hat/223_0015.jpg\n",
      "Error: Image is not RGB: ../data/data_resized/247.xylophone/247_0022.jpg\n",
      "Error: Image is not RGB: ../data/data_resized/064.elephant-101/064_0051.jpg\n",
      "Error: Image is not RGB: ../data/data_resized/064.elephant-101/064_0005.jpg\n",
      "Error: Image is not RGB: ../data/data_resized/064.elephant-101/064_0131.jpg\n",
      "Error: Image is not RGB: ../data/data_resized/064.elephant-101/064_0050.jpg\n",
      "Error: Image is not RGB: ../data/data_resized/064.elephant-101/064_0127.jpg\n",
      "Error: Image is not RGB: ../data/data_resized/055.dice/055_0091.jpg\n",
      "Error: Image is not RGB: ../data/data_resized/219.theodolite/219_0038.jpg\n",
      "Error: Image is not RGB: ../data/data_resized/219.theodolite/219_0048.jpg\n",
      "Error: Image is not RGB: ../data/data_resized/255.tennis-shoes/255_0045.jpg\n",
      "Error: Image is not RGB: ../data/data_resized/255.tennis-shoes/255_0047.jpg\n",
      "Error: Image is not RGB: ../data/data_resized/159.people/159_0117.jpg\n",
      "Error: Image is not RGB: ../data/data_resized/159.people/159_0084.jpg\n",
      "Error: Image is not RGB: ../data/data_resized/159.people/159_0186.jpg\n",
      "Error: Image is not RGB: ../data/data_resized/159.people/159_0003.jpg\n",
      "Error: Image is not RGB: ../data/data_resized/159.people/159_0161.jpg\n",
      "Error: Image is not RGB: ../data/data_resized/159.people/159_0120.jpg\n",
      "Error: Image is not RGB: ../data/data_resized/159.people/159_0101.jpg\n",
      "Error: Image is not RGB: ../data/data_resized/159.people/159_0019.jpg\n",
      "Error: Image is not RGB: ../data/data_resized/159.people/159_0139.jpg\n",
      "Error: Image is not RGB: ../data/data_resized/159.people/159_0121.jpg\n",
      "Error: Image is not RGB: ../data/data_resized/159.people/159_0188.jpg\n",
      "Error: Image is not RGB: ../data/data_resized/159.people/159_0169.jpg\n",
      "Error: Image is not RGB: ../data/data_resized/159.people/159_0165.jpg\n",
      "Error: Image is not RGB: ../data/data_resized/159.people/159_0133.jpg\n",
      "Error: Image is not RGB: ../data/data_resized/159.people/159_0147.jpg\n",
      "Error: Image is not RGB: ../data/data_resized/159.people/159_0206.jpg\n",
      "Error: Image is not RGB: ../data/data_resized/171.refrigerator/171_0003.jpg\n",
      "Error: Image is not RGB: ../data/data_resized/075.floppy-disk/075_0058.jpg\n",
      "Error: Image is not RGB: ../data/data_resized/058.doorknob/058_0011.jpg\n",
      "Error: Image is not RGB: ../data/data_resized/058.doorknob/058_0053.jpg\n",
      "Error: Image is not RGB: ../data/data_resized/058.doorknob/058_0046.jpg\n",
      "Error: Image is not RGB: ../data/data_resized/058.doorknob/058_0084.jpg\n",
      "Error: Image is not RGB: ../data/data_resized/155.paperclip/155_0081.jpg\n",
      "Error: Image is not RGB: ../data/data_resized/155.paperclip/155_0039.jpg\n",
      "Error: Image is not RGB: ../data/data_resized/155.paperclip/155_0067.jpg\n",
      "Error: Image is not RGB: ../data/data_resized/155.paperclip/155_0080.jpg\n",
      "Error: Image is not RGB: ../data/data_resized/155.paperclip/155_0072.jpg\n",
      "Error: Image is not RGB: ../data/data_resized/155.paperclip/155_0006.jpg\n",
      "Error: Image is not RGB: ../data/data_resized/155.paperclip/155_0008.jpg\n",
      "Error: Image is not RGB: ../data/data_resized/155.paperclip/155_0015.jpg\n",
      "Error: Image is not RGB: ../data/data_resized/126.ladder/126_0085.jpg\n",
      "Error: Image is not RGB: ../data/data_resized/126.ladder/126_0102.jpg\n",
      "Error: Image is not RGB: ../data/data_resized/126.ladder/126_0100.jpg\n",
      "Error: Image is not RGB: ../data/data_resized/126.ladder/126_0238.jpg\n",
      "Error: Image is not RGB: ../data/data_resized/043.coin/043_0023.jpg\n",
      "Error: Image is not RGB: ../data/data_resized/043.coin/043_0042.jpg\n",
      "Error: Image is not RGB: ../data/data_resized/146.mountain-bike/146_0075.jpg\n",
      "Error: Image is not RGB: ../data/data_resized/014.blimp/014_0022.jpg\n",
      "Error: Image is not RGB: ../data/data_resized/020.brain-101/020_0011.jpg\n",
      "Error: Image is not RGB: ../data/data_resized/020.brain-101/020_0013.jpg\n",
      "Error: Image is not RGB: ../data/data_resized/020.brain-101/020_0053.jpg\n",
      "Error: Image is not RGB: ../data/data_resized/020.brain-101/020_0040.jpg\n",
      "Error: Image is not RGB: ../data/data_resized/020.brain-101/020_0014.jpg\n",
      "Error: Image is not RGB: ../data/data_resized/020.brain-101/020_0054.jpg\n",
      "Error: Image is not RGB: ../data/data_resized/020.brain-101/020_0012.jpg\n",
      "Error: Image is not RGB: ../data/data_resized/020.brain-101/020_0076.jpg\n",
      "Error: Image is not RGB: ../data/data_resized/020.brain-101/020_0080.jpg\n",
      "Error: Image is not RGB: ../data/data_resized/020.brain-101/020_0059.jpg\n",
      "Error: Image is not RGB: ../data/data_resized/020.brain-101/020_0041.jpg\n",
      "Error: Image is not RGB: ../data/data_resized/020.brain-101/020_0009.jpg\n",
      "Error: Image is not RGB: ../data/data_resized/020.brain-101/020_0081.jpg\n"
     ]
    }
   ],
   "source": [
    "X, y = classes_to_data('../data/data_resized/', n_classes=100)"
   ]
  },
  {
   "cell_type": "markdown",
   "metadata": {
    "deletable": true,
    "editable": true
   },
   "source": [
    "Save the 10 classes with labels as npz-file:"
   ]
  },
  {
   "cell_type": "code",
   "execution_count": null,
   "metadata": {
    "collapsed": false,
    "deletable": true,
    "editable": true
   },
   "outputs": [],
   "source": [
    "np.savez('../data/image_data_100', X, y)"
   ]
  }
 ],
 "metadata": {
  "kernelspec": {
   "display_name": "Python 3",
   "language": "python",
   "name": "python3"
  },
  "language_info": {
   "codemirror_mode": {
    "name": "ipython",
    "version": 3
   },
   "file_extension": ".py",
   "mimetype": "text/x-python",
   "name": "python",
   "nbconvert_exporter": "python",
   "pygments_lexer": "ipython3",
   "version": "3.6.0"
  }
 },
 "nbformat": 4,
 "nbformat_minor": 2
}
