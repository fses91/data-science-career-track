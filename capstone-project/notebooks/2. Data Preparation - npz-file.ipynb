{
 "cells": [
  {
   "cell_type": "markdown",
   "metadata": {
    "deletable": true,
    "editable": true
   },
   "source": [
    "# 2. Data Preparation - npz-file\n",
    "The methods provided here allows you to convert the image data into numpy arrays and to store it in npz-format. It makes it a lot easier for sklear to have the data prepared in numpy arrays, so we can easily load the data and train models."
   ]
  },
  {
   "cell_type": "code",
   "execution_count": 7,
   "metadata": {
    "collapsed": true,
    "deletable": true,
    "editable": true
   },
   "outputs": [],
   "source": [
    "# import libraries\n",
    "import PIL as pil\n",
    "import os as os\n",
    "import numpy as np\n",
    "import pandas as pd\n",
    "import humanize as hm\n",
    "\n",
    "from skimage import data, io, filters, transform\n",
    "from sklearn.svm import SVC\n",
    "from sklearn.model_selection import GridSearchCV\n",
    "from sklearn.model_selection import train_test_split"
   ]
  },
  {
   "cell_type": "code",
   "execution_count": 8,
   "metadata": {
    "collapsed": true,
    "deletable": true,
    "editable": true
   },
   "outputs": [],
   "source": [
    "image_width = 150\n",
    "image_height = 150"
   ]
  },
  {
   "cell_type": "code",
   "execution_count": 9,
   "metadata": {
    "collapsed": true,
    "deletable": true,
    "editable": true
   },
   "outputs": [],
   "source": [
    "def class_to_data(path, label):\n",
    "    \"\"\"\n",
    "    Converts a class of images in a given path into a two numpy arrays\n",
    "    \n",
    "    Args:\n",
    "        path (str): The path of the folder which contains the images of one class.\n",
    "        label (int): The label for the images of the class\n",
    "    \n",
    "    Returns:\n",
    "        X (numpy.ndarray): Array containing a image in each row.\n",
    "        y (numpy.ndarray): Array containing a label in each row.\n",
    "    \"\"\"\n",
    "    \n",
    "    \n",
    "    X = np.empty((0, image_width, image_height, 3), dtype=np.int8)\n",
    "    y = np.empty(0, dtype=np.int8)\n",
    "\n",
    "    for image in sorted(os.listdir(path)):\n",
    "        if image.endswith('.jpg'):\n",
    "            try:\n",
    "                image_path = os.path.join(path, image)\n",
    "                im = io.imread(image_path)\n",
    "                \n",
    "                im = transform.resize(im, (image_width, image_height), mode='reflect')\n",
    "                X = np.append(X, [im], axis=0)\n",
    "                y = np.append(y, label)\n",
    "            except:\n",
    "                 print('Error: Image is not RGB:', image_path)\n",
    "                 continue\n",
    "    return X, y"
   ]
  },
  {
   "cell_type": "code",
   "execution_count": 10,
   "metadata": {
    "collapsed": true,
    "deletable": true,
    "editable": true
   },
   "outputs": [],
   "source": [
    "\n",
    "def classes_to_data(path, n_classes=1):\n",
    "    \"\"\"\n",
    "    Converts classes of images in a given path into a two numpy arrays.\n",
    "    \n",
    "    Args:\n",
    "        path (str): The path of the folder which contains the images of one class.\n",
    "        n_classes (int): The number of classes to use.\n",
    "    \n",
    "    Returns:\n",
    "        X (numpy.ndarray): Array containing a image in each row.\n",
    "        y (numpy.ndarray): Array containing a label in each row.\n",
    "    \"\"\"\n",
    "    X = np.empty((0, image_width, image_height, 3), dtype=np.int8)\n",
    "    y = np.empty(0, dtype=np.int8)\n",
    "    label = 0\n",
    "    \n",
    "    for folder in sorted(os.listdir(path)):\n",
    "        print(label)\n",
    "        class_path = os.path.join(path, folder)\n",
    "        images, targets = class_to_data(class_path, label)\n",
    "        X = np.append(X, images, axis=0)\n",
    "        y = np.append(y, targets)\n",
    "        label += 1\n",
    "        if label > n_classes:\n",
    "            break\n",
    "    return X, y"
   ]
  },
  {
   "cell_type": "markdown",
   "metadata": {
    "deletable": true,
    "editable": true
   },
   "source": [
    "Generate a new smaller dataset which takes the first 10 classes. We will resize the data on 30% of their size because of performance. After we found a good model we will take the whole data and train it in the Google Cloud."
   ]
  },
  {
   "cell_type": "code",
   "execution_count": 11,
   "metadata": {
    "collapsed": false,
    "deletable": true,
    "editable": true
   },
   "outputs": [
    {
     "name": "stdout",
     "output_type": "stream",
     "text": [
      "0\n",
      "Error: Image is not RGB: ../data/data/001.ak47/001_0016.jpg\n",
      "1\n",
      "2\n",
      "3\n",
      "4\n",
      "5\n",
      "Error: Image is not RGB: ../data/data/006.basketball-hoop/006_0004.jpg\n",
      "Error: Image is not RGB: ../data/data/006.basketball-hoop/006_0005.jpg\n",
      "Error: Image is not RGB: ../data/data/006.basketball-hoop/006_0007.jpg\n",
      "Error: Image is not RGB: ../data/data/006.basketball-hoop/006_0063.jpg\n",
      "Error: Image is not RGB: ../data/data/006.basketball-hoop/006_0075.jpg\n",
      "6\n",
      "Error: Image is not RGB: ../data/data/007.bat/007_0082.jpg\n",
      "7\n",
      "Error: Image is not RGB: ../data/data/008.bathtub/008_0137.jpg\n",
      "8\n",
      "9\n",
      "10\n"
     ]
    }
   ],
   "source": [
    "X, y = classes_to_data('../data/data/', n_classes=10)"
   ]
  },
  {
   "cell_type": "code",
   "execution_count": 12,
   "metadata": {
    "collapsed": false
   },
   "outputs": [],
   "source": [
    "np.savez('../data/image_data_10', X, y)"
   ]
  }
 ],
 "metadata": {
  "kernelspec": {
   "display_name": "Python 3",
   "language": "python",
   "name": "python3"
  },
  "language_info": {
   "codemirror_mode": {
    "name": "ipython",
    "version": 3
   },
   "file_extension": ".py",
   "mimetype": "text/x-python",
   "name": "python",
   "nbconvert_exporter": "python",
   "pygments_lexer": "ipython3",
   "version": "3.6.0"
  }
 },
 "nbformat": 4,
 "nbformat_minor": 2
}
