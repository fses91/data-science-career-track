{
 "cells": [
  {
   "cell_type": "markdown",
   "metadata": {
    "deletable": true,
    "editable": true
   },
   "source": [
    "# 3.2 K-Nearest"
   ]
  },
  {
   "cell_type": "code",
   "execution_count": 1,
   "metadata": {
    "collapsed": true,
    "deletable": true,
    "editable": true
   },
   "outputs": [],
   "source": [
    "import numpy as np\n",
    "\n",
    "from sklearn.neighbors import KNeighborsClassifier\n",
    "from sklearn.model_selection import GridSearchCV\n",
    "from sklearn.model_selection import train_test_split\n",
    "from sklearn.model_selection import StratifiedKFold"
   ]
  },
  {
   "cell_type": "markdown",
   "metadata": {
    "deletable": true,
    "editable": true
   },
   "source": [
    "Load the small image data set."
   ]
  },
  {
   "cell_type": "code",
   "execution_count": 2,
   "metadata": {
    "collapsed": true,
    "deletable": true,
    "editable": true
   },
   "outputs": [],
   "source": [
    "npzfile = np.load('../data/image_data_10.npz')"
   ]
  },
  {
   "cell_type": "code",
   "execution_count": 3,
   "metadata": {
    "collapsed": true,
    "deletable": true,
    "editable": true
   },
   "outputs": [],
   "source": [
    "X = npzfile['arr_0']\n",
    "y = npzfile['arr_1']"
   ]
  },
  {
   "cell_type": "code",
   "execution_count": 4,
   "metadata": {
    "collapsed": true,
    "deletable": true,
    "editable": true
   },
   "outputs": [],
   "source": [
    "# reshape \n",
    "X = np.reshape(X, (X.shape[0], X.shape[1]*X.shape[2]*X.shape[3]))"
   ]
  },
  {
   "cell_type": "code",
   "execution_count": 5,
   "metadata": {
    "collapsed": false,
    "deletable": true,
    "editable": true
   },
   "outputs": [],
   "source": [
    "# split into train and test data\n",
    "X_train, X_test, y_train, y_test = train_test_split(X, y, test_size=0.2, random_state=42)"
   ]
  },
  {
   "cell_type": "code",
   "execution_count": 6,
   "metadata": {
    "collapsed": false,
    "deletable": true,
    "editable": true
   },
   "outputs": [],
   "source": [
    "# define grid for grid search\n",
    "n_neighbors_range = np.linspace(1, 10, 10, dtype=np.int8)\n",
    "metrics_range = ['euclidean', 'minkowski']\n",
    "param_grid = dict(n_neighbors=n_neighbors_range, metric=metrics_range)"
   ]
  },
  {
   "cell_type": "code",
   "execution_count": 7,
   "metadata": {
    "collapsed": false,
    "deletable": true,
    "editable": true,
    "scrolled": true
   },
   "outputs": [
    {
     "name": "stdout",
     "output_type": "stream",
     "text": [
      "Fitting 3 folds for each of 20 candidates, totalling 60 fits\n",
      "Memmaping (shape=(1212, 67500), dtype=float64) to new file C:\\Users\\flori\\AppData\\Local\\Temp\\joblib_memmaping_pool_4588_1606588853888\\4588-1606589071656-2898dbb030e98a4a31c8c039fc3d6992.pkl\n",
      "Pickling array (shape=(1212,), dtype=int32).\n",
      "Pickling array (shape=(806,), dtype=int32).\n",
      "Pickling array (shape=(406,), dtype=int32).\n",
      "Memmaping (shape=(1212, 67500), dtype=float64) to old file C:\\Users\\flori\\AppData\\Local\\Temp\\joblib_memmaping_pool_4588_1606588853888\\4588-1606589071656-2898dbb030e98a4a31c8c039fc3d6992.pkl\n",
      "Pickling array (shape=(1212,), dtype=int32).\n",
      "Pickling array (shape=(808,), dtype=int32).\n",
      "Pickling array (shape=(404,), dtype=int32).\n",
      "Memmaping (shape=(1212, 67500), dtype=float64) to old file C:\\Users\\flori\\AppData\\Local\\Temp\\joblib_memmaping_pool_4588_1606588853888\\4588-1606589071656-2898dbb030e98a4a31c8c039fc3d6992.pkl\n",
      "Pickling array (shape=(1212,), dtype=int32).\n",
      "Pickling array (shape=(810,), dtype=int32).\n",
      "Pickling array (shape=(402,), dtype=int32).\n",
      "Memmaping (shape=(1212, 67500), dtype=float64) to old file C:\\Users\\flori\\AppData\\Local\\Temp\\joblib_memmaping_pool_4588_1606588853888\\4588-1606589071656-2898dbb030e98a4a31c8c039fc3d6992.pkl\n",
      "Pickling array (shape=(1212,), dtype=int32).\n",
      "Pickling array (shape=(806,), dtype=int32).\n",
      "Pickling array (shape=(406,), dtype=int32).\n",
      "Memmaping (shape=(1212, 67500), dtype=float64) to old file C:\\Users\\flori\\AppData\\Local\\Temp\\joblib_memmaping_pool_4588_1606588853888\\4588-1606589071656-2898dbb030e98a4a31c8c039fc3d6992.pkl\n",
      "Pickling array (shape=(1212,), dtype=int32).\n",
      "Pickling array (shape=(808,), dtype=int32).\n",
      "Pickling array (shape=(404,), dtype=int32).\n",
      "Memmaping (shape=(1212, 67500), dtype=float64) to old file C:\\Users\\flori\\AppData\\Local\\Temp\\joblib_memmaping_pool_4588_1606588853888\\4588-1606589071656-2898dbb030e98a4a31c8c039fc3d6992.pkl\n",
      "Pickling array (shape=(1212,), dtype=int32).\n",
      "Pickling array (shape=(810,), dtype=int32).\n",
      "Pickling array (shape=(402,), dtype=int32).\n",
      "Memmaping (shape=(1212, 67500), dtype=float64) to old file C:\\Users\\flori\\AppData\\Local\\Temp\\joblib_memmaping_pool_4588_1606588853888\\4588-1606589071656-2898dbb030e98a4a31c8c039fc3d6992.pkl\n",
      "Pickling array (shape=(1212,), dtype=int32).\n",
      "Pickling array (shape=(806,), dtype=int32).\n",
      "Pickling array (shape=(406,), dtype=int32).\n",
      "Memmaping (shape=(1212, 67500), dtype=float64) to old file C:\\Users\\flori\\AppData\\Local\\Temp\\joblib_memmaping_pool_4588_1606588853888\\4588-1606589071656-2898dbb030e98a4a31c8c039fc3d6992.pkl\n",
      "Pickling array (shape=(1212,), dtype=int32).\n",
      "Pickling array (shape=(808,), dtype=int32).\n",
      "Pickling array (shape=(404,), dtype=int32).\n",
      "Memmaping (shape=(1212, 67500), dtype=float64) to old file C:\\Users\\flori\\AppData\\Local\\Temp\\joblib_memmaping_pool_4588_1606588853888\\4588-1606589071656-2898dbb030e98a4a31c8c039fc3d6992.pkl\n",
      "Pickling array (shape=(1212,), dtype=int32).\n",
      "Pickling array (shape=(810,), dtype=int32).\n",
      "Pickling array (shape=(402,), dtype=int32).\n",
      "[Parallel(n_jobs=8)]: Done   1 tasks      | elapsed:  2.2min\n",
      "Memmaping (shape=(1212, 67500), dtype=float64) to old file C:\\Users\\flori\\AppData\\Local\\Temp\\joblib_memmaping_pool_4588_1606588853888\\4588-1606589071656-2898dbb030e98a4a31c8c039fc3d6992.pkl\n",
      "Pickling array (shape=(1212,), dtype=int32).\n",
      "Pickling array (shape=(806,), dtype=int32).\n",
      "Pickling array (shape=(406,), dtype=int32).\n",
      "[Parallel(n_jobs=8)]: Done   2 tasks      | elapsed:  2.3min\n",
      "[Parallel(n_jobs=8)]: Done   3 tasks      | elapsed:  2.3min\n",
      "Memmaping (shape=(1212, 67500), dtype=float64) to old file C:\\Users\\flori\\AppData\\Local\\Temp\\joblib_memmaping_pool_4588_1606588853888\\4588-1606589071656-2898dbb030e98a4a31c8c039fc3d6992.pkl\n",
      "Pickling array (shape=(1212,), dtype=int32).\n",
      "Pickling array (shape=(808,), dtype=int32).\n",
      "Pickling array (shape=(404,), dtype=int32).\n",
      "Memmaping (shape=(1212, 67500), dtype=float64) to old file C:\\Users\\flori\\AppData\\Local\\Temp\\joblib_memmaping_pool_4588_1606588853888\\4588-1606589071656-2898dbb030e98a4a31c8c039fc3d6992.pkl\n",
      "Pickling array (shape=(1212,), dtype=int32).\n",
      "Pickling array (shape=(810,), dtype=int32).\n",
      "Pickling array (shape=(402,), dtype=int32).\n",
      "[Parallel(n_jobs=8)]: Done   4 tasks      | elapsed:  4.9min\n",
      "Memmaping (shape=(1212, 67500), dtype=float64) to old file C:\\Users\\flori\\AppData\\Local\\Temp\\joblib_memmaping_pool_4588_1606588853888\\4588-1606589071656-2898dbb030e98a4a31c8c039fc3d6992.pkl\n",
      "Pickling array (shape=(1212,), dtype=int32).\n",
      "Pickling array (shape=(806,), dtype=int32).\n",
      "Pickling array (shape=(406,), dtype=int32).\n",
      "[Parallel(n_jobs=8)]: Done   5 tasks      | elapsed:  4.9min\n",
      "Memmaping (shape=(1212, 67500), dtype=float64) to old file C:\\Users\\flori\\AppData\\Local\\Temp\\joblib_memmaping_pool_4588_1606588853888\\4588-1606589071656-2898dbb030e98a4a31c8c039fc3d6992.pkl\n",
      "Pickling array (shape=(1212,), dtype=int32).\n",
      "Pickling array (shape=(808,), dtype=int32).\n",
      "Pickling array (shape=(404,), dtype=int32).\n",
      "[Parallel(n_jobs=8)]: Done   6 tasks      | elapsed:  5.1min\n",
      "[Parallel(n_jobs=8)]: Done   7 tasks      | elapsed:  5.1min\n",
      "Memmaping (shape=(1212, 67500), dtype=float64) to old file C:\\Users\\flori\\AppData\\Local\\Temp\\joblib_memmaping_pool_4588_1606588853888\\4588-1606589071656-2898dbb030e98a4a31c8c039fc3d6992.pkl\n",
      "Pickling array (shape=(1212,), dtype=int32).\n",
      "Pickling array (shape=(810,), dtype=int32).\n",
      "Pickling array (shape=(402,), dtype=int32).\n",
      "Memmaping (shape=(1212, 67500), dtype=float64) to old file C:\\Users\\flori\\AppData\\Local\\Temp\\joblib_memmaping_pool_4588_1606588853888\\4588-1606589071656-2898dbb030e98a4a31c8c039fc3d6992.pkl\n",
      "Pickling array (shape=(1212,), dtype=int32).\n",
      "Pickling array (shape=(806,), dtype=int32).\n",
      "Pickling array (shape=(406,), dtype=int32).\n",
      "[Parallel(n_jobs=8)]: Done   8 tasks      | elapsed:  5.2min\n",
      "Memmaping (shape=(1212, 67500), dtype=float64) to old file C:\\Users\\flori\\AppData\\Local\\Temp\\joblib_memmaping_pool_4588_1606588853888\\4588-1606589071656-2898dbb030e98a4a31c8c039fc3d6992.pkl\n",
      "Pickling array (shape=(1212,), dtype=int32).\n",
      "Pickling array (shape=(808,), dtype=int32).\n",
      "Pickling array (shape=(404,), dtype=int32).\n",
      "[Parallel(n_jobs=8)]: Done   9 tasks      | elapsed:  6.0min\n",
      "Memmaping (shape=(1212, 67500), dtype=float64) to old file C:\\Users\\flori\\AppData\\Local\\Temp\\joblib_memmaping_pool_4588_1606588853888\\4588-1606589071656-2898dbb030e98a4a31c8c039fc3d6992.pkl\n",
      "Pickling array (shape=(1212,), dtype=int32).\n",
      "Pickling array (shape=(810,), dtype=int32).\n",
      "Pickling array (shape=(402,), dtype=int32).\n",
      "[Parallel(n_jobs=8)]: Done  10 tasks      | elapsed:  6.0min\n",
      "Memmaping (shape=(1212, 67500), dtype=float64) to old file C:\\Users\\flori\\AppData\\Local\\Temp\\joblib_memmaping_pool_4588_1606588853888\\4588-1606589071656-2898dbb030e98a4a31c8c039fc3d6992.pkl\n",
      "Pickling array (shape=(1212,), dtype=int32).\n",
      "Pickling array (shape=(806,), dtype=int32).\n",
      "Pickling array (shape=(406,), dtype=int32).\n",
      "[Parallel(n_jobs=8)]: Done  11 tasks      | elapsed:  6.3min\n",
      "Memmaping (shape=(1212, 67500), dtype=float64) to old file C:\\Users\\flori\\AppData\\Local\\Temp\\joblib_memmaping_pool_4588_1606588853888\\4588-1606589071656-2898dbb030e98a4a31c8c039fc3d6992.pkl\n",
      "Pickling array (shape=(1212,), dtype=int32).\n",
      "Pickling array (shape=(808,), dtype=int32).\n",
      "Pickling array (shape=(404,), dtype=int32).\n",
      "[Parallel(n_jobs=8)]: Done  12 tasks      | elapsed:  7.7min\n",
      "Memmaping (shape=(1212, 67500), dtype=float64) to old file C:\\Users\\flori\\AppData\\Local\\Temp\\joblib_memmaping_pool_4588_1606588853888\\4588-1606589071656-2898dbb030e98a4a31c8c039fc3d6992.pkl\n",
      "Pickling array (shape=(1212,), dtype=int32).\n",
      "Pickling array (shape=(810,), dtype=int32).\n",
      "Pickling array (shape=(402,), dtype=int32).\n",
      "[Parallel(n_jobs=8)]: Done  13 tasks      | elapsed:  7.8min\n",
      "Memmaping (shape=(1212, 67500), dtype=float64) to old file C:\\Users\\flori\\AppData\\Local\\Temp\\joblib_memmaping_pool_4588_1606588853888\\4588-1606589071656-2898dbb030e98a4a31c8c039fc3d6992.pkl\n",
      "Pickling array (shape=(1212,), dtype=int32).\n",
      "Pickling array (shape=(806,), dtype=int32).\n",
      "Pickling array (shape=(406,), dtype=int32).\n",
      "[Parallel(n_jobs=8)]: Done  14 tasks      | elapsed:  7.9min\n",
      "Memmaping (shape=(1212, 67500), dtype=float64) to old file C:\\Users\\flori\\AppData\\Local\\Temp\\joblib_memmaping_pool_4588_1606588853888\\4588-1606589071656-2898dbb030e98a4a31c8c039fc3d6992.pkl\n",
      "Pickling array (shape=(1212,), dtype=int32).\n",
      "Pickling array (shape=(808,), dtype=int32).\n",
      "Pickling array (shape=(404,), dtype=int32).\n",
      "[Parallel(n_jobs=8)]: Done  15 tasks      | elapsed:  8.0min\n",
      "Memmaping (shape=(1212, 67500), dtype=float64) to old file C:\\Users\\flori\\AppData\\Local\\Temp\\joblib_memmaping_pool_4588_1606588853888\\4588-1606589071656-2898dbb030e98a4a31c8c039fc3d6992.pkl\n",
      "Pickling array (shape=(1212,), dtype=int32).\n",
      "Pickling array (shape=(810,), dtype=int32).\n",
      "Pickling array (shape=(402,), dtype=int32).\n",
      "[Parallel(n_jobs=8)]: Done  16 tasks      | elapsed:  8.0min\n",
      "Memmaping (shape=(1212, 67500), dtype=float64) to old file C:\\Users\\flori\\AppData\\Local\\Temp\\joblib_memmaping_pool_4588_1606588853888\\4588-1606589071656-2898dbb030e98a4a31c8c039fc3d6992.pkl\n",
      "Pickling array (shape=(1212,), dtype=int32).\n",
      "Pickling array (shape=(806,), dtype=int32).\n",
      "Pickling array (shape=(406,), dtype=int32).\n",
      "[Parallel(n_jobs=8)]: Done  17 tasks      | elapsed:  8.7min\n",
      "Memmaping (shape=(1212, 67500), dtype=float64) to old file C:\\Users\\flori\\AppData\\Local\\Temp\\joblib_memmaping_pool_4588_1606588853888\\4588-1606589071656-2898dbb030e98a4a31c8c039fc3d6992.pkl\n",
      "Pickling array (shape=(1212,), dtype=int32).\n",
      "Pickling array (shape=(808,), dtype=int32).\n",
      "Pickling array (shape=(404,), dtype=int32).\n",
      "[Parallel(n_jobs=8)]: Done  18 tasks      | elapsed:  8.8min\n",
      "Memmaping (shape=(1212, 67500), dtype=float64) to old file C:\\Users\\flori\\AppData\\Local\\Temp\\joblib_memmaping_pool_4588_1606588853888\\4588-1606589071656-2898dbb030e98a4a31c8c039fc3d6992.pkl\n",
      "Pickling array (shape=(1212,), dtype=int32).\n",
      "Pickling array (shape=(810,), dtype=int32).\n",
      "Pickling array (shape=(402,), dtype=int32).\n",
      "[Parallel(n_jobs=8)]: Done  19 tasks      | elapsed:  9.1min\n",
      "Memmaping (shape=(1212, 67500), dtype=float64) to old file C:\\Users\\flori\\AppData\\Local\\Temp\\joblib_memmaping_pool_4588_1606588853888\\4588-1606589071656-2898dbb030e98a4a31c8c039fc3d6992.pkl\n",
      "Pickling array (shape=(1212,), dtype=int32).\n",
      "Pickling array (shape=(806,), dtype=int32).\n",
      "Pickling array (shape=(406,), dtype=int32).\n",
      "[Parallel(n_jobs=8)]: Done  20 tasks      | elapsed: 10.6min\n",
      "Memmaping (shape=(1212, 67500), dtype=float64) to old file C:\\Users\\flori\\AppData\\Local\\Temp\\joblib_memmaping_pool_4588_1606588853888\\4588-1606589071656-2898dbb030e98a4a31c8c039fc3d6992.pkl\n",
      "Pickling array (shape=(1212,), dtype=int32).\n",
      "Pickling array (shape=(808,), dtype=int32).\n",
      "Pickling array (shape=(404,), dtype=int32).\n",
      "[Parallel(n_jobs=8)]: Done  21 tasks      | elapsed: 10.6min\n",
      "Memmaping (shape=(1212, 67500), dtype=float64) to old file C:\\Users\\flori\\AppData\\Local\\Temp\\joblib_memmaping_pool_4588_1606588853888\\4588-1606589071656-2898dbb030e98a4a31c8c039fc3d6992.pkl\n",
      "Pickling array (shape=(1212,), dtype=int32).\n",
      "Pickling array (shape=(810,), dtype=int32).\n",
      "Pickling array (shape=(402,), dtype=int32).\n",
      "[Parallel(n_jobs=8)]: Done  22 tasks      | elapsed: 10.7min\n",
      "Memmaping (shape=(1212, 67500), dtype=float64) to old file C:\\Users\\flori\\AppData\\Local\\Temp\\joblib_memmaping_pool_4588_1606588853888\\4588-1606589071656-2898dbb030e98a4a31c8c039fc3d6992.pkl\n",
      "Pickling array (shape=(1212,), dtype=int32).\n",
      "Pickling array (shape=(806,), dtype=int32).\n",
      "Pickling array (shape=(406,), dtype=int32).\n",
      "[Parallel(n_jobs=8)]: Done  23 tasks      | elapsed: 10.8min\n",
      "Memmaping (shape=(1212, 67500), dtype=float64) to old file C:\\Users\\flori\\AppData\\Local\\Temp\\joblib_memmaping_pool_4588_1606588853888\\4588-1606589071656-2898dbb030e98a4a31c8c039fc3d6992.pkl\n",
      "Pickling array (shape=(1212,), dtype=int32).\n",
      "Pickling array (shape=(808,), dtype=int32).\n",
      "Pickling array (shape=(404,), dtype=int32).\n",
      "[Parallel(n_jobs=8)]: Done  24 tasks      | elapsed: 10.9min\n",
      "Memmaping (shape=(1212, 67500), dtype=float64) to old file C:\\Users\\flori\\AppData\\Local\\Temp\\joblib_memmaping_pool_4588_1606588853888\\4588-1606589071656-2898dbb030e98a4a31c8c039fc3d6992.pkl\n",
      "Pickling array (shape=(1212,), dtype=int32).\n",
      "Pickling array (shape=(810,), dtype=int32).\n",
      "Pickling array (shape=(402,), dtype=int32).\n",
      "[Parallel(n_jobs=8)]: Done  25 tasks      | elapsed: 11.5min\n",
      "Memmaping (shape=(1212, 67500), dtype=float64) to old file C:\\Users\\flori\\AppData\\Local\\Temp\\joblib_memmaping_pool_4588_1606588853888\\4588-1606589071656-2898dbb030e98a4a31c8c039fc3d6992.pkl\n",
      "Pickling array (shape=(1212,), dtype=int32).\n",
      "Pickling array (shape=(806,), dtype=int32).\n",
      "Pickling array (shape=(406,), dtype=int32).\n",
      "[Parallel(n_jobs=8)]: Done  26 tasks      | elapsed: 11.6min\n",
      "Memmaping (shape=(1212, 67500), dtype=float64) to old file C:\\Users\\flori\\AppData\\Local\\Temp\\joblib_memmaping_pool_4588_1606588853888\\4588-1606589071656-2898dbb030e98a4a31c8c039fc3d6992.pkl\n",
      "Pickling array (shape=(1212,), dtype=int32).\n",
      "Pickling array (shape=(808,), dtype=int32).\n",
      "Pickling array (shape=(404,), dtype=int32).\n",
      "[Parallel(n_jobs=8)]: Done  27 tasks      | elapsed: 11.9min\n",
      "Memmaping (shape=(1212, 67500), dtype=float64) to old file C:\\Users\\flori\\AppData\\Local\\Temp\\joblib_memmaping_pool_4588_1606588853888\\4588-1606589071656-2898dbb030e98a4a31c8c039fc3d6992.pkl\n",
      "Pickling array (shape=(1212,), dtype=int32).\n",
      "Pickling array (shape=(810,), dtype=int32).\n",
      "Pickling array (shape=(402,), dtype=int32).\n",
      "[Parallel(n_jobs=8)]: Done  28 tasks      | elapsed: 11.9min\n",
      "Memmaping (shape=(1212, 67500), dtype=float64) to old file C:\\Users\\flori\\AppData\\Local\\Temp\\joblib_memmaping_pool_4588_1606588853888\\4588-1606589071656-2898dbb030e98a4a31c8c039fc3d6992.pkl\n",
      "Pickling array (shape=(1212,), dtype=int32).\n",
      "Pickling array (shape=(806,), dtype=int32).\n",
      "Pickling array (shape=(406,), dtype=int32).\n",
      "[Parallel(n_jobs=8)]: Done  29 tasks      | elapsed: 12.0min\n",
      "Memmaping (shape=(1212, 67500), dtype=float64) to old file C:\\Users\\flori\\AppData\\Local\\Temp\\joblib_memmaping_pool_4588_1606588853888\\4588-1606589071656-2898dbb030e98a4a31c8c039fc3d6992.pkl\n",
      "Pickling array (shape=(1212,), dtype=int32).\n",
      "Pickling array (shape=(808,), dtype=int32).\n",
      "Pickling array (shape=(404,), dtype=int32).\n",
      "[Parallel(n_jobs=8)]: Done  30 tasks      | elapsed: 12.7min\n",
      "Memmaping (shape=(1212, 67500), dtype=float64) to old file C:\\Users\\flori\\AppData\\Local\\Temp\\joblib_memmaping_pool_4588_1606588853888\\4588-1606589071656-2898dbb030e98a4a31c8c039fc3d6992.pkl\n",
      "Pickling array (shape=(1212,), dtype=int32).\n",
      "Pickling array (shape=(810,), dtype=int32).\n",
      "Pickling array (shape=(402,), dtype=int32).\n",
      "[Parallel(n_jobs=8)]: Done  31 tasks      | elapsed: 13.3min\n",
      "Memmaping (shape=(1212, 67500), dtype=float64) to old file C:\\Users\\flori\\AppData\\Local\\Temp\\joblib_memmaping_pool_4588_1606588853888\\4588-1606589071656-2898dbb030e98a4a31c8c039fc3d6992.pkl\n",
      "Pickling array (shape=(1212,), dtype=int32).\n",
      "Pickling array (shape=(806,), dtype=int32).\n",
      "Pickling array (shape=(406,), dtype=int32).\n",
      "[Parallel(n_jobs=8)]: Done  32 tasks      | elapsed: 13.4min\n",
      "Memmaping (shape=(1212, 67500), dtype=float64) to old file C:\\Users\\flori\\AppData\\Local\\Temp\\joblib_memmaping_pool_4588_1606588853888\\4588-1606589071656-2898dbb030e98a4a31c8c039fc3d6992.pkl\n",
      "Pickling array (shape=(1212,), dtype=int32).\n",
      "Pickling array (shape=(808,), dtype=int32).\n",
      "Pickling array (shape=(404,), dtype=int32).\n",
      "[Parallel(n_jobs=8)]: Done  33 tasks      | elapsed: 13.5min\n",
      "Memmaping (shape=(1212, 67500), dtype=float64) to old file C:\\Users\\flori\\AppData\\Local\\Temp\\joblib_memmaping_pool_4588_1606588853888\\4588-1606589071656-2898dbb030e98a4a31c8c039fc3d6992.pkl\n",
      "Pickling array (shape=(1212,), dtype=int32).\n",
      "Pickling array (shape=(810,), dtype=int32).\n",
      "Pickling array (shape=(402,), dtype=int32).\n",
      "[Parallel(n_jobs=8)]: Done  34 tasks      | elapsed: 14.4min\n",
      "Memmaping (shape=(1212, 67500), dtype=float64) to old file C:\\Users\\flori\\AppData\\Local\\Temp\\joblib_memmaping_pool_4588_1606588853888\\4588-1606589071656-2898dbb030e98a4a31c8c039fc3d6992.pkl\n",
      "Pickling array (shape=(1212,), dtype=int32).\n",
      "Pickling array (shape=(806,), dtype=int32).\n",
      "Pickling array (shape=(406,), dtype=int32).\n",
      "[Parallel(n_jobs=8)]: Done  35 tasks      | elapsed: 14.7min\n",
      "Memmaping (shape=(1212, 67500), dtype=float64) to old file C:\\Users\\flori\\AppData\\Local\\Temp\\joblib_memmaping_pool_4588_1606588853888\\4588-1606589071656-2898dbb030e98a4a31c8c039fc3d6992.pkl\n",
      "Pickling array (shape=(1212,), dtype=int32).\n",
      "Pickling array (shape=(808,), dtype=int32).\n",
      "Pickling array (shape=(404,), dtype=int32).\n",
      "[Parallel(n_jobs=8)]: Done  36 tasks      | elapsed: 14.8min\n",
      "Memmaping (shape=(1212, 67500), dtype=float64) to old file C:\\Users\\flori\\AppData\\Local\\Temp\\joblib_memmaping_pool_4588_1606588853888\\4588-1606589071656-2898dbb030e98a4a31c8c039fc3d6992.pkl\n",
      "Pickling array (shape=(1212,), dtype=int32).\n",
      "Pickling array (shape=(810,), dtype=int32).\n",
      "Pickling array (shape=(402,), dtype=int32).\n",
      "[Parallel(n_jobs=8)]: Done  37 tasks      | elapsed: 14.8min\n",
      "Memmaping (shape=(1212, 67500), dtype=float64) to old file C:\\Users\\flori\\AppData\\Local\\Temp\\joblib_memmaping_pool_4588_1606588853888\\4588-1606589071656-2898dbb030e98a4a31c8c039fc3d6992.pkl\n",
      "Pickling array (shape=(1212,), dtype=int32).\n",
      "Pickling array (shape=(806,), dtype=int32).\n",
      "Pickling array (shape=(406,), dtype=int32).\n",
      "[Parallel(n_jobs=8)]: Done  38 tasks      | elapsed: 15.5min\n",
      "Memmaping (shape=(1212, 67500), dtype=float64) to old file C:\\Users\\flori\\AppData\\Local\\Temp\\joblib_memmaping_pool_4588_1606588853888\\4588-1606589071656-2898dbb030e98a4a31c8c039fc3d6992.pkl\n",
      "Pickling array (shape=(1212,), dtype=int32).\n",
      "Pickling array (shape=(808,), dtype=int32).\n",
      "Pickling array (shape=(404,), dtype=int32).\n",
      "[Parallel(n_jobs=8)]: Done  39 tasks      | elapsed: 16.2min\n",
      "[Parallel(n_jobs=8)]: Done  40 tasks      | elapsed: 16.2min\n",
      "Memmaping (shape=(1212, 67500), dtype=float64) to old file C:\\Users\\flori\\AppData\\Local\\Temp\\joblib_memmaping_pool_4588_1606588853888\\4588-1606589071656-2898dbb030e98a4a31c8c039fc3d6992.pkl\n",
      "Pickling array (shape=(1212,), dtype=int32).\n",
      "Pickling array (shape=(810,), dtype=int32).\n",
      "Pickling array (shape=(402,), dtype=int32).\n",
      "Memmaping (shape=(1212, 67500), dtype=float64) to old file C:\\Users\\flori\\AppData\\Local\\Temp\\joblib_memmaping_pool_4588_1606588853888\\4588-1606589071656-2898dbb030e98a4a31c8c039fc3d6992.pkl\n",
      "Pickling array (shape=(1212,), dtype=int32).\n",
      "Pickling array (shape=(806,), dtype=int32).\n",
      "Pickling array (shape=(406,), dtype=int32).\n",
      "[Parallel(n_jobs=8)]: Done  41 tasks      | elapsed: 16.4min\n",
      "Memmaping (shape=(1212, 67500), dtype=float64) to old file C:\\Users\\flori\\AppData\\Local\\Temp\\joblib_memmaping_pool_4588_1606588853888\\4588-1606589071656-2898dbb030e98a4a31c8c039fc3d6992.pkl\n",
      "Pickling array (shape=(1212,), dtype=int32).\n",
      "Pickling array (shape=(808,), dtype=int32).\n",
      "Pickling array (shape=(404,), dtype=int32).\n",
      "[Parallel(n_jobs=8)]: Done  42 tasks      | elapsed: 17.3min\n",
      "Memmaping (shape=(1212, 67500), dtype=float64) to old file C:\\Users\\flori\\AppData\\Local\\Temp\\joblib_memmaping_pool_4588_1606588853888\\4588-1606589071656-2898dbb030e98a4a31c8c039fc3d6992.pkl\n",
      "Pickling array (shape=(1212,), dtype=int32).\n",
      "Pickling array (shape=(810,), dtype=int32).\n",
      "Pickling array (shape=(402,), dtype=int32).\n",
      "[Parallel(n_jobs=8)]: Done  43 tasks      | elapsed: 17.5min\n",
      "Memmaping (shape=(1212, 67500), dtype=float64) to old file C:\\Users\\flori\\AppData\\Local\\Temp\\joblib_memmaping_pool_4588_1606588853888\\4588-1606589071656-2898dbb030e98a4a31c8c039fc3d6992.pkl\n",
      "Pickling array (shape=(1212,), dtype=int32).\n",
      "Pickling array (shape=(806,), dtype=int32).\n",
      "Pickling array (shape=(406,), dtype=int32).\n",
      "[Parallel(n_jobs=8)]: Done  44 tasks      | elapsed: 17.6min\n",
      "Memmaping (shape=(1212, 67500), dtype=float64) to old file C:\\Users\\flori\\AppData\\Local\\Temp\\joblib_memmaping_pool_4588_1606588853888\\4588-1606589071656-2898dbb030e98a4a31c8c039fc3d6992.pkl\n",
      "Pickling array (shape=(1212,), dtype=int32).\n",
      "Pickling array (shape=(808,), dtype=int32).\n",
      "Pickling array (shape=(404,), dtype=int32).\n",
      "[Parallel(n_jobs=8)]: Done  45 tasks      | elapsed: 17.6min\n",
      "Memmaping (shape=(1212, 67500), dtype=float64) to old file C:\\Users\\flori\\AppData\\Local\\Temp\\joblib_memmaping_pool_4588_1606588853888\\4588-1606589071656-2898dbb030e98a4a31c8c039fc3d6992.pkl\n",
      "Pickling array (shape=(1212,), dtype=int32).\n",
      "Pickling array (shape=(810,), dtype=int32).\n",
      "Pickling array (shape=(402,), dtype=int32).\n",
      "[Parallel(n_jobs=8)]: Done  46 out of  60 | elapsed: 18.3min remaining:  5.6min\n",
      "Memmaping (shape=(1212, 67500), dtype=float64) to old file C:\\Users\\flori\\AppData\\Local\\Temp\\joblib_memmaping_pool_4588_1606588853888\\4588-1606589071656-2898dbb030e98a4a31c8c039fc3d6992.pkl\n",
      "Pickling array (shape=(1212,), dtype=int32).\n",
      "Pickling array (shape=(806,), dtype=int32).\n",
      "Pickling array (shape=(406,), dtype=int32).\n",
      "[Parallel(n_jobs=8)]: Done  47 out of  60 | elapsed: 19.0min remaining:  5.2min\n",
      "Memmaping (shape=(1212, 67500), dtype=float64) to old file C:\\Users\\flori\\AppData\\Local\\Temp\\joblib_memmaping_pool_4588_1606588853888\\4588-1606589071656-2898dbb030e98a4a31c8c039fc3d6992.pkl\n",
      "Pickling array (shape=(1212,), dtype=int32).\n",
      "Pickling array (shape=(808,), dtype=int32).\n",
      "Pickling array (shape=(404,), dtype=int32).\n",
      "[Parallel(n_jobs=8)]: Done  48 out of  60 | elapsed: 19.0min remaining:  4.8min\n",
      "Memmaping (shape=(1212, 67500), dtype=float64) to old file C:\\Users\\flori\\AppData\\Local\\Temp\\joblib_memmaping_pool_4588_1606588853888\\4588-1606589071656-2898dbb030e98a4a31c8c039fc3d6992.pkl\n",
      "Pickling array (shape=(1212,), dtype=int32).\n",
      "Pickling array (shape=(810,), dtype=int32).\n",
      "Pickling array (shape=(402,), dtype=int32).\n",
      "[Parallel(n_jobs=8)]: Done  49 out of  60 | elapsed: 19.2min remaining:  4.3min\n",
      "Memmaping (shape=(1212, 67500), dtype=float64) to old file C:\\Users\\flori\\AppData\\Local\\Temp\\joblib_memmaping_pool_4588_1606588853888\\4588-1606589071656-2898dbb030e98a4a31c8c039fc3d6992.pkl\n",
      "Pickling array (shape=(1212,), dtype=int32).\n",
      "Pickling array (shape=(806,), dtype=int32).\n",
      "Pickling array (shape=(406,), dtype=int32).\n",
      "[Parallel(n_jobs=8)]: Done  50 out of  60 | elapsed: 20.1min remaining:  4.0min\n",
      "Memmaping (shape=(1212, 67500), dtype=float64) to old file C:\\Users\\flori\\AppData\\Local\\Temp\\joblib_memmaping_pool_4588_1606588853888\\4588-1606589071656-2898dbb030e98a4a31c8c039fc3d6992.pkl\n",
      "Pickling array (shape=(1212,), dtype=int32).\n",
      "Pickling array (shape=(808,), dtype=int32).\n",
      "Pickling array (shape=(404,), dtype=int32).\n",
      "[Parallel(n_jobs=8)]: Done  51 out of  60 | elapsed: 20.3min remaining:  3.6min\n",
      "Memmaping (shape=(1212, 67500), dtype=float64) to old file C:\\Users\\flori\\AppData\\Local\\Temp\\joblib_memmaping_pool_4588_1606588853888\\4588-1606589071656-2898dbb030e98a4a31c8c039fc3d6992.pkl\n",
      "Pickling array (shape=(1212,), dtype=int32).\n",
      "Pickling array (shape=(810,), dtype=int32).\n",
      "Pickling array (shape=(402,), dtype=int32).\n",
      "[Parallel(n_jobs=8)]: Done  52 out of  60 | elapsed: 20.4min remaining:  3.1min\n",
      "[Parallel(n_jobs=8)]: Done  53 out of  60 | elapsed: 20.4min remaining:  2.7min\n",
      "[Parallel(n_jobs=8)]: Done  54 out of  60 | elapsed: 21.0min remaining:  2.3min\n",
      "[Parallel(n_jobs=8)]: Done  55 out of  60 | elapsed: 21.5min remaining:  2.0min\n",
      "[Parallel(n_jobs=8)]: Done  56 out of  60 | elapsed: 21.6min remaining:  1.5min\n",
      "[Parallel(n_jobs=8)]: Done  57 out of  60 | elapsed: 21.7min remaining:  1.1min\n",
      "[Parallel(n_jobs=8)]: Done  58 out of  60 | elapsed: 22.2min remaining:   45.9s\n",
      "[Parallel(n_jobs=8)]: Done  60 out of  60 | elapsed: 22.4min remaining:    0.0s\n",
      "[Parallel(n_jobs=8)]: Done  60 out of  60 | elapsed: 22.4min finished\n"
     ]
    },
    {
     "data": {
      "text/plain": [
       "GridSearchCV(cv=StratifiedKFold(n_splits=3, random_state=None, shuffle=False),\n",
       "       error_score='raise',\n",
       "       estimator=KNeighborsClassifier(algorithm='auto', leaf_size=30, metric='minkowski',\n",
       "           metric_params=None, n_jobs=1, n_neighbors=5, p=2,\n",
       "           weights='uniform'),\n",
       "       fit_params={}, iid=True, n_jobs=8,\n",
       "       param_grid={'n_neighbors': array([ 1,  2,  3,  4,  5,  6,  7,  8,  9, 10], dtype=int8), 'metric': ['euclidean', 'minkowski']},\n",
       "       pre_dispatch='2*n_jobs', refit=True, return_train_score=True,\n",
       "       scoring=None, verbose=1000)"
      ]
     },
     "execution_count": 7,
     "metadata": {},
     "output_type": "execute_result"
    }
   ],
   "source": [
    "# find the best parameters for the model\n",
    "grid = GridSearchCV(\n",
    "    KNeighborsClassifier(), \n",
    "    param_grid=param_grid,  \n",
    "    cv=StratifiedKFold(n_splits=3),\n",
    "    n_jobs=8,\n",
    "    verbose=1000)\n",
    "\n",
    "grid.fit(X_train, y_train)"
   ]
  },
  {
   "cell_type": "code",
   "execution_count": 8,
   "metadata": {
    "collapsed": false
   },
   "outputs": [
    {
     "data": {
      "text/plain": [
       "{'metric': 'euclidean', 'n_neighbors': 10}"
      ]
     },
     "execution_count": 8,
     "metadata": {},
     "output_type": "execute_result"
    }
   ],
   "source": [
    "# {'metric': 'euclidean', 'n_neighbors': 10} were the best fitting parameters in this setup\n",
    "grid.best_params_"
   ]
  },
  {
   "cell_type": "code",
   "execution_count": 9,
   "metadata": {
    "collapsed": false,
    "deletable": true,
    "editable": true
   },
   "outputs": [],
   "source": [
    "# use the best parameters for the model\n",
    "best_n_neighbors = grid.best_params_['n_neighbors']\n",
    "best_metric = grid.best_params_['metric']"
   ]
  },
  {
   "cell_type": "code",
   "execution_count": 10,
   "metadata": {
    "collapsed": false,
    "deletable": true,
    "editable": true
   },
   "outputs": [
    {
     "data": {
      "text/plain": [
       "KNeighborsClassifier(algorithm='auto', leaf_size=30, metric='euclidean',\n",
       "           metric_params=None, n_jobs=1, n_neighbors=10, p=2,\n",
       "           weights='uniform')"
      ]
     },
     "execution_count": 10,
     "metadata": {},
     "output_type": "execute_result"
    }
   ],
   "source": [
    "# fit the model with the best parameters\n",
    "clf = KNeighborsClassifier(n_neighbors=best_n_neighbors, metric=best_metric)\n",
    "clf.fit(X_train, y_train)"
   ]
  },
  {
   "cell_type": "code",
   "execution_count": 11,
   "metadata": {
    "collapsed": false,
    "deletable": true,
    "editable": true
   },
   "outputs": [
    {
     "data": {
      "text/plain": [
       "0.41584158415841582"
      ]
     },
     "execution_count": 11,
     "metadata": {},
     "output_type": "execute_result"
    }
   ],
   "source": [
    "# score on test data\n",
    "clf.score(X_test, y_test)"
   ]
  },
  {
   "cell_type": "code",
   "execution_count": 12,
   "metadata": {
    "collapsed": false,
    "deletable": true,
    "editable": true
   },
   "outputs": [
    {
     "data": {
      "text/plain": [
       "0.40099009900990101"
      ]
     },
     "execution_count": 12,
     "metadata": {},
     "output_type": "execute_result"
    }
   ],
   "source": [
    "# score on training data\n",
    "clf.score(X_train, y_train)"
   ]
  }
 ],
 "metadata": {
  "kernelspec": {
   "display_name": "Python 3",
   "language": "python",
   "name": "python3"
  },
  "language_info": {
   "codemirror_mode": {
    "name": "ipython",
    "version": 3
   },
   "file_extension": ".py",
   "mimetype": "text/x-python",
   "name": "python",
   "nbconvert_exporter": "python",
   "pygments_lexer": "ipython3",
   "version": "3.5.3"
  }
 },
 "nbformat": 4,
 "nbformat_minor": 2
}
