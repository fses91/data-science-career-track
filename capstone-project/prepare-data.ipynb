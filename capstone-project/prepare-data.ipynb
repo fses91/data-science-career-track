{
 "cells": [
  {
   "cell_type": "markdown",
   "metadata": {
    "deletable": true,
    "editable": true
   },
   "source": [
    "# Prepare data"
   ]
  },
  {
   "cell_type": "code",
   "execution_count": 31,
   "metadata": {
    "collapsed": false,
    "deletable": true,
    "editable": true
   },
   "outputs": [],
   "source": [
    "# import libraries\n",
    "import PIL as pil\n",
    "import os as os\n",
    "import numpy as np\n",
    "import pandas as pd\n",
    "import humanize as hm\n",
    "\n",
    "from skimage import data, io, filters, transform\n",
    "from sklearn.svm import SVC\n",
    "from sklearn.model_selection import GridSearchCV\n",
    "from sklearn.model_selection import train_test_split"
   ]
  },
  {
   "cell_type": "code",
   "execution_count": 181,
   "metadata": {
    "collapsed": false,
    "deletable": true,
    "editable": true
   },
   "outputs": [
    {
     "data": {
      "text/plain": [
       "43815"
      ]
     },
     "execution_count": 181,
     "metadata": {},
     "output_type": "execute_result"
    }
   ],
   "source": [
    "n_classes = 256\n",
    "image_count = 30607\n",
    "image_resize_factor = 3\n",
    "image_width = int(382 / image_resize_factor)\n",
    "image_height = int(345 / image_resize_factor)\n",
    "image_pixels = image_height * image_width * 3\n",
    "image_pixels"
   ]
  },
  {
   "cell_type": "code",
   "execution_count": 182,
   "metadata": {
    "collapsed": false,
    "deletable": true,
    "editable": true
   },
   "outputs": [],
   "source": [
    "# converts images of a whole class into a pandas dataframe, it reduces the images size by factor 3\n",
    "# path: path where images are\n",
    "# label for the images\n",
    "# return: pandas dataframe with pixel in each row and the label\n",
    "def class_to_df(path, label):\n",
    "    images = np.empty((0, image_pixels), dtype=np.int8)\n",
    "    targets = np.empty(0, dtype=np.int8)\n",
    "\n",
    "    for image in os.listdir(path):\n",
    "        if image.endswith('.jpg'):\n",
    "            try:\n",
    "                image_path = os.path.join(path, image)\n",
    "                im = io.imread(image_path)\n",
    "                \n",
    "                im = transform.resize(im, (image_width, image_height), mode='reflect')\n",
    "                im = np.array(im)\n",
    "                im = im.reshape(-1)\n",
    "                images = np.append(images, [im], axis=0)\n",
    "                targets = np.append(targets, label)\n",
    "            except:\n",
    "                 print('Error in image:', image)\n",
    "                 continue\n",
    "    return images, targets"
   ]
  },
  {
   "cell_type": "code",
   "execution_count": 183,
   "metadata": {
    "collapsed": false,
    "deletable": true,
    "editable": true
   },
   "outputs": [
    {
     "name": "stdout",
     "output_type": "stream",
     "text": [
      "Error in image: 001_0016.jpg\n",
      "Error in image: 006_0004.jpg\n",
      "Error in image: 006_0005.jpg\n",
      "Error in image: 006_0007.jpg\n",
      "Error in image: 006_0063.jpg\n",
      "Error in image: 006_0075.jpg\n",
      "Error in image: 007_0082.jpg\n",
      "Error in image: 006_0004.jpg\n",
      "Error in image: 006_0005.jpg\n",
      "Error in image: 006_0007.jpg\n",
      "Error in image: 006_0063.jpg\n",
      "Error in image: 006_0075.jpg\n",
      "Error in image: 007_0082.jpg\n"
     ]
    }
   ],
   "source": [
    "X1, y1 = class_to_df('data_resized/001.ak47/', 1)\n",
    "X2, y2 = class_to_df('data_resized/002.american-flag/', 2)\n",
    "X3, y3 = class_to_df('data_resized/003.backpack/', 3)\n",
    "X4, y4 = class_to_df('data_resized/004.baseball-bat/', 4)\n",
    "X5, y5 = class_to_df('data_resized/005.baseball-glove/', 5)\n",
    "X6, y6 = class_to_df('data_resized/006.basketball-hoop/', 6)\n",
    "X7, y7 = class_to_df('data_resized/007.bat/', 7)\n",
    "X8, y8 = class_to_df('data_resized/006.basketball-hoop/', 6)\n",
    "X9, y9 = class_to_df('data_resized/007.bat/', 7)"
   ]
  },
  {
   "cell_type": "code",
   "execution_count": 184,
   "metadata": {
    "collapsed": false,
    "deletable": true,
    "editable": true
   },
   "outputs": [],
   "source": [
    "X = np.append(X1, X2, axis=0)\n",
    "X = np.append(X, X3, axis=0)\n",
    "X = np.append(X, X4, axis=0)\n",
    "X = np.append(X, X5, axis=0)\n",
    "X = np.append(X, X6, axis=0)\n",
    "X = np.append(X, X7, axis=0)\n",
    "X = np.append(X, X8, axis=0)\n",
    "X = np.append(X, X9, axis=0)\n",
    "y = np.append(y1, y2)\n",
    "y = np.append(y, y3)\n",
    "y = np.append(y, y4)\n",
    "y = np.append(y, y5)\n",
    "y = np.append(y, y6)\n",
    "y = np.append(y, y7)\n",
    "y = np.append(y, y8)\n",
    "y = np.append(y, y9)"
   ]
  },
  {
   "cell_type": "code",
   "execution_count": 185,
   "metadata": {
    "collapsed": false
   },
   "outputs": [],
   "source": [
    "X_train, X_test, y_train, y_test = train_test_split(X, y, test_size=0.2, random_state=42)"
   ]
  },
  {
   "cell_type": "code",
   "execution_count": 156,
   "metadata": {
    "collapsed": true
   },
   "outputs": [],
   "source": [
    "C_range = np.logspace(-2, 1, 4)\n",
    "gamma_range = np.logspace(-3, 1, 4)\n",
    "param_grid = dict(gamma=gamma_range, C=C_range)"
   ]
  },
  {
   "cell_type": "code",
   "execution_count": 157,
   "metadata": {
    "collapsed": false
   },
   "outputs": [
    {
     "data": {
      "text/plain": [
       "{'C': 10.0, 'gamma': 0.001}"
      ]
     },
     "execution_count": 157,
     "metadata": {},
     "output_type": "execute_result"
    }
   ],
   "source": [
    "grid = GridSearchCV(SVC(), param_grid=param_grid)\n",
    "grid.fit(X_train, y_train)\n",
    "grid.best_params_"
   ]
  },
  {
   "cell_type": "code",
   "execution_count": 186,
   "metadata": {
    "collapsed": false
   },
   "outputs": [
    {
     "data": {
      "text/plain": [
       "SVC(C=1, cache_size=200, class_weight=None, coef0=0.0,\n",
       "  decision_function_shape=None, degree=3, gamma=0.001, kernel='rbf',\n",
       "  max_iter=-1, probability=False, random_state=None, shrinking=True,\n",
       "  tol=0.001, verbose=False)"
      ]
     },
     "execution_count": 186,
     "metadata": {},
     "output_type": "execute_result"
    }
   ],
   "source": [
    "clf = SVC(C=1, gamma=0.001)\n",
    "clf.fit(X_train, y_train)"
   ]
  },
  {
   "cell_type": "code",
   "execution_count": 187,
   "metadata": {
    "collapsed": false
   },
   "outputs": [
    {
     "data": {
      "text/plain": [
       "0.65500000000000003"
      ]
     },
     "execution_count": 187,
     "metadata": {},
     "output_type": "execute_result"
    }
   ],
   "source": [
    "clf.score(X_test, y_test)"
   ]
  },
  {
   "cell_type": "code",
   "execution_count": 188,
   "metadata": {
    "collapsed": false
   },
   "outputs": [
    {
     "data": {
      "text/plain": [
       "0.99624999999999997"
      ]
     },
     "execution_count": 188,
     "metadata": {},
     "output_type": "execute_result"
    }
   ],
   "source": [
    "clf.score(X_train, y_train)"
   ]
  },
  {
   "cell_type": "code",
   "execution_count": 64,
   "metadata": {
    "collapsed": true,
    "deletable": true,
    "editable": true
   },
   "outputs": [],
   "source": [
    " \n",
    "def prepare_training_data(path, n_classes):\n",
    "    label = 1\n",
    "\n",
    "    for folder in os.listdir(path):\n",
    "        folder_path = os.path.join(path, folder)\n",
    "        if os.path.isdir(folder_path):\n",
    "            print(label)\n",
    "            df = class_to_pd_df(folder_path, label)\n",
    "            file_path = os.path.join(folder_path, '')\n",
    "            df.to_csv\n",
    "            label += 1\n",
    "    return images, targets"
   ]
  },
  {
   "cell_type": "code",
   "execution_count": null,
   "metadata": {
    "collapsed": true
   },
   "outputs": [],
   "source": []
  }
 ],
 "metadata": {
  "kernelspec": {
   "display_name": "Python 3",
   "language": "python",
   "name": "python3"
  },
  "language_info": {
   "codemirror_mode": {
    "name": "ipython",
    "version": 3
   },
   "file_extension": ".py",
   "mimetype": "text/x-python",
   "name": "python",
   "nbconvert_exporter": "python",
   "pygments_lexer": "ipython3",
   "version": "3.5.3"
  }
 },
 "nbformat": 4,
 "nbformat_minor": 2
}
