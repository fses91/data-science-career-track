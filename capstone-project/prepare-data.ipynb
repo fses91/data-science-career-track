{
 "cells": [
  {
   "cell_type": "markdown",
   "metadata": {
    "deletable": true,
    "editable": true
   },
   "source": [
    "# Prepare data"
   ]
  },
  {
   "cell_type": "code",
   "execution_count": 46,
   "metadata": {
    "collapsed": false,
    "deletable": true,
    "editable": true
   },
   "outputs": [],
   "source": [
    "# import libraries\n",
    "import PIL as pil\n",
    "import os as os\n",
    "import numpy as np\n",
    "import pandas as pd\n",
    "import humanize as hm\n",
    "from skimage import *\n",
    "\n",
    "from sklearn.decomposition import PCA"
   ]
  },
  {
   "cell_type": "code",
   "execution_count": 77,
   "metadata": {
    "collapsed": false,
    "deletable": true,
    "editable": true
   },
   "outputs": [
    {
     "data": {
      "text/plain": [
       "43815"
      ]
     },
     "execution_count": 77,
     "metadata": {},
     "output_type": "execute_result"
    }
   ],
   "source": [
    "n_classes = 256\n",
    "image_count = 30607\n",
    "image_resize_factor = 3\n",
    "image_height = int(382 / image_resize_factor)\n",
    "image_width = int(345 / image_resize_factor)\n",
    "image_pixels = image_height * image_width * 3\n",
    "image_pixels"
   ]
  },
  {
   "cell_type": "code",
   "execution_count": 101,
   "metadata": {
    "collapsed": false,
    "deletable": true,
    "editable": true
   },
   "outputs": [],
   "source": [
    "# converts images of a whole class into a pandas dataframe, it reduces the images size by factor 3\n",
    "# path: path where images are\n",
    "# label for the images\n",
    "# return: pandas dataframe with pixel in each row and the label\n",
    "def class_to_df(path, label):\n",
    "    images = np.empty((0, image_pixels), dtype=np.int8)\n",
    "    targets = np.empty(0, dtype=np.int8)\n",
    "\n",
    "    for image in os.listdir(path):\n",
    "        if image.endswith('.jpg'):\n",
    "            try:\n",
    "                image_path = os.path.join(path, image)\n",
    "                im = skimage.io.imread(image_path)\n",
    "                im = skimage.transform.resize(im, (image_width, image_height), mode='reflect')\n",
    "                im = np.array(im)\n",
    "                im = im.reshape(-1)\n",
    "                images = np.append(images, [im], axis=0)\n",
    "                \n",
    "                targets = np.append(targets, label)\n",
    "            except:\n",
    "                 print('Error in image:', image)\n",
    "                 continue\n",
    "    #df = pd.DataFrame(data=images)\n",
    "    #df['label'] = pd.Series(data=targets)\n",
    "    return images"
   ]
  },
  {
   "cell_type": "code",
   "execution_count": 102,
   "metadata": {
    "collapsed": false,
    "deletable": true,
    "editable": true
   },
   "outputs": [
    {
     "name": "stdout",
     "output_type": "stream",
     "text": [
      "Error in image: 001_0016.jpg\n"
     ]
    }
   ],
   "source": [
    "df = class_to_df('data_resized/001.ak47/', '1')"
   ]
  },
  {
   "cell_type": "code",
   "execution_count": 103,
   "metadata": {
    "collapsed": false
   },
   "outputs": [
    {
     "data": {
      "text/plain": [
       "(97, 43815)"
      ]
     },
     "execution_count": 103,
     "metadata": {},
     "output_type": "execute_result"
    }
   ],
   "source": [
    "df.shape"
   ]
  },
  {
   "cell_type": "code",
   "execution_count": null,
   "metadata": {
    "collapsed": true,
    "deletable": true,
    "editable": true
   },
   "outputs": [],
   "source": [
    " \n",
    "def prepare_training_data(path, n_classes):\n",
    "    label = 1\n",
    "\n",
    "    for folder in os.listdir(path):\n",
    "        folder_path = os.path.join(path, folder)\n",
    "        if os.path.isdir(folder_path):\n",
    "            print(label)\n",
    "            df = class_to_pd_df(folder_path, label)\n",
    "            file_path = os.path.join(folder_path, '')\n",
    "            df.to_csv\n",
    "            label += 1\n",
    "    return images, targets"
   ]
  }
 ],
 "metadata": {
  "kernelspec": {
   "display_name": "Python 3",
   "language": "python",
   "name": "python3"
  },
  "language_info": {
   "codemirror_mode": {
    "name": "ipython",
    "version": 3
   },
   "file_extension": ".py",
   "mimetype": "text/x-python",
   "name": "python",
   "nbconvert_exporter": "python",
   "pygments_lexer": "ipython3",
   "version": "3.5.3"
  }
 },
 "nbformat": 4,
 "nbformat_minor": 2
}
