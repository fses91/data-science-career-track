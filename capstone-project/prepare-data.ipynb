{
 "cells": [
  {
   "cell_type": "markdown",
   "metadata": {
    "deletable": true,
    "editable": true
   },
   "source": [
    "# Prepare data"
   ]
  },
  {
   "cell_type": "code",
   "execution_count": 10,
   "metadata": {
    "collapsed": true,
    "deletable": true,
    "editable": true
   },
   "outputs": [],
   "source": [
    "# import libraries\n",
    "import PIL as pil\n",
    "import os as os\n",
    "import numpy as np\n",
    "import pandas as pd\n",
    "import humanize as hm"
   ]
  },
  {
   "cell_type": "code",
   "execution_count": 11,
   "metadata": {
    "collapsed": false,
    "deletable": true,
    "editable": true
   },
   "outputs": [
    {
     "data": {
      "text/plain": [
       "395370"
      ]
     },
     "execution_count": 11,
     "metadata": {},
     "output_type": "execute_result"
    }
   ],
   "source": [
    "n_classes = 256\n",
    "image_count = 30607\n",
    "image_height = 382\n",
    "image_width = 345\n",
    "image_pixels = image_height * image_width * 3\n",
    "image_pixels"
   ]
  },
  {
   "cell_type": "code",
   "execution_count": 17,
   "metadata": {
    "collapsed": false,
    "deletable": true,
    "editable": true
   },
   "outputs": [],
   "source": [
    "# converts images of a whole class into a pandas dataframe\n",
    "# path: path where images are\n",
    "# label for the images\n",
    "# return: pandas dataframe with pixel in each row and the label\n",
    "def class_to_df(path, label):\n",
    "    images = np.empty((0, image_pixels), dtype=np.int8)\n",
    "    targets = np.empty(0, dtype=np.int8)\n",
    "\n",
    "    for image in os.listdir(path):\n",
    "        if image.endswith('.jpg'):\n",
    "            try:\n",
    "                image_path = os.path.join(path, image)\n",
    "                im = pil.Image.open(image_path)\n",
    "                im = np.array(im)\n",
    "                im = im.reshape(-1)\n",
    "                images = np.append(images, [im], axis=0)\n",
    "                targets = np.append(targets, label)\n",
    "            except:\n",
    "                 continue\n",
    "    df = pd.DataFrame(data=images)\n",
    "    df['label'] = pd.Series(data=targets)\n",
    "    return df"
   ]
  },
  {
   "cell_type": "code",
   "execution_count": 18,
   "metadata": {
    "collapsed": false,
    "deletable": true,
    "editable": true
   },
   "outputs": [],
   "source": [
    "df = class_to_df('data_resized/001.ak47/', 1)"
   ]
  },
  {
   "cell_type": "code",
   "execution_count": 15,
   "metadata": {
    "collapsed": true,
    "deletable": true,
    "editable": true
   },
   "outputs": [],
   "source": [
    "df.to_csv('data_resized/001.ak47/data_1.csv')"
   ]
  },
  {
   "cell_type": "code",
   "execution_count": 16,
   "metadata": {
    "collapsed": false,
    "deletable": true,
    "editable": true
   },
   "outputs": [],
   "source": [
    "df_test = pd.read_csv('data_resized/001.ak47/data_1.csv')"
   ]
  },
  {
   "cell_type": "code",
   "execution_count": 8,
   "metadata": {
    "collapsed": false,
    "deletable": true,
    "editable": true
   },
   "outputs": [],
   "source": [
    "size = os.path.getsize('data_resized/001.ak47/data_1.csv')"
   ]
  },
  {
   "cell_type": "code",
   "execution_count": 9,
   "metadata": {
    "collapsed": false,
    "deletable": true,
    "editable": true
   },
   "outputs": [
    {
     "data": {
      "text/plain": [
       "'138.1 MB'"
      ]
     },
     "execution_count": 9,
     "metadata": {},
     "output_type": "execute_result"
    }
   ],
   "source": [
    "hm.naturalsize(size)"
   ]
  },
  {
   "cell_type": "code",
   "execution_count": null,
   "metadata": {
    "collapsed": true,
    "deletable": true,
    "editable": true
   },
   "outputs": [],
   "source": [
    "# \n",
    "#def prepare_training_data(path, n_classes):\n",
    "#    label = 1\n",
    "#\n",
    "#    for folder in os.listdir(path):\n",
    "#        folder_path = os.path.join(path, folder)\n",
    "#        if os.path.isdir(folder_path):\n",
    "#            print(label)\n",
    "#            df = class_to_pd_df(folder_path, label)\n",
    "#            file_path = os.path.join(folder_path, '')\n",
    "#            df.to_csv\n",
    "#            label += 1\n",
    "#    return images, targets"
   ]
  }
 ],
 "metadata": {
  "kernelspec": {
   "display_name": "Python 3",
   "language": "python",
   "name": "python3"
  },
  "language_info": {
   "codemirror_mode": {
    "name": "ipython",
    "version": 3
   },
   "file_extension": ".py",
   "mimetype": "text/x-python",
   "name": "python",
   "nbconvert_exporter": "python",
   "pygments_lexer": "ipython3",
   "version": "3.5.3"
  }
 },
 "nbformat": 4,
 "nbformat_minor": 2
}
