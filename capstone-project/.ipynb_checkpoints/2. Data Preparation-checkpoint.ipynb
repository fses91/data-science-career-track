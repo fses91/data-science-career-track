{
 "cells": [
  {
   "cell_type": "markdown",
   "metadata": {
    "deletable": true,
    "editable": true
   },
   "source": [
    "# 2. Data Preparation"
   ]
  },
  {
   "cell_type": "markdown",
   "metadata": {
    "deletable": true,
    "editable": true
   },
   "source": [
    "The methods provided here allows you to convert the image data into numpy arrays and to store it in npz-format. It makes it a lot easier for sklear to have the data prepared in numpy arrays, so we can easily load the data and train models."
   ]
  },
  {
   "cell_type": "code",
   "execution_count": 1,
   "metadata": {
    "collapsed": false,
    "deletable": true,
    "editable": true
   },
   "outputs": [],
   "source": [
    "# import libraries\n",
    "import PIL as pil\n",
    "import os as os\n",
    "import numpy as np\n",
    "import pandas as pd\n",
    "import humanize as hm\n",
    "\n",
    "from skimage import data, io, filters, transform\n",
    "from sklearn.svm import SVC\n",
    "from sklearn.model_selection import GridSearchCV\n",
    "from sklearn.model_selection import train_test_split"
   ]
  },
  {
   "cell_type": "code",
   "execution_count": 2,
   "metadata": {
    "collapsed": false,
    "deletable": true,
    "editable": true
   },
   "outputs": [
    {
     "data": {
      "text/plain": [
       "35226"
      ]
     },
     "execution_count": 2,
     "metadata": {},
     "output_type": "execute_result"
    }
   ],
   "source": [
    "n_classes = 256\n",
    "image_count = 30607\n",
    "image_resize_factor = 0.3\n",
    "image_width = int(382 * image_resize_factor)\n",
    "image_height = int(345 * image_resize_factor)\n",
    "image_pixels = image_height * image_width * 3\n",
    "image_pixels"
   ]
  },
  {
   "cell_type": "code",
   "execution_count": 3,
   "metadata": {
    "collapsed": false,
    "deletable": true,
    "editable": true
   },
   "outputs": [],
   "source": [
    "def class_to_data(path, label):\n",
    "    \"\"\"\n",
    "    Converts a class of images in a given path into a two numpy arrays\n",
    "    \n",
    "    Args:\n",
    "        path (str): The path of the folder which contains the images of one class.\n",
    "        label (int): The label for the images of the class\n",
    "    \n",
    "    Returns:\n",
    "        X (numpy.ndarray): Array containing a image in each row.\n",
    "        y (numpy.ndarray): Array containing a label in each row.\n",
    "    \"\"\"\n",
    "    \n",
    "    \n",
    "    X = np.empty((0, image_width, image_height, 3), dtype=np.int8)\n",
    "    y = np.empty(0, dtype=np.int8)\n",
    "\n",
    "    for image in os.listdir(path):\n",
    "        if image.endswith('.jpg'):\n",
    "            try:\n",
    "                image_path = os.path.join(path, image)\n",
    "                im = io.imread(image_path)\n",
    "                \n",
    "                im = transform.resize(im, (image_width, image_height), mode='reflect')\n",
    "                X = np.append(X, [im], axis=0)\n",
    "                y = np.append(y, label)\n",
    "            except:\n",
    "                 print('Error: Image is not RGB:', image_path)\n",
    "                 continue\n",
    "    return X, y"
   ]
  },
  {
   "cell_type": "code",
   "execution_count": 4,
   "metadata": {
    "collapsed": false,
    "deletable": true,
    "editable": true
   },
   "outputs": [],
   "source": [
    "def classes_to_data(path, n_classes=1):\n",
    "    \"\"\"\n",
    "    Converts classes of images in a given path into a two numpy arrays.\n",
    "    \n",
    "    Args:\n",
    "        path (str): The path of the folder which contains the images of one class.\n",
    "        n_classes (int): The number of classes to use.\n",
    "    \n",
    "    Returns:\n",
    "        X (numpy.ndarray): Array containing a image in each row.\n",
    "        y (numpy.ndarray): Array containing a label in each row.\n",
    "    \"\"\"\n",
    "    X = np.empty((0, image_width, image_height, 3), dtype=np.int8)\n",
    "    y = np.empty(0, dtype=np.int8)\n",
    "    label = 1\n",
    "    \n",
    "    for folder in os.listdir(path):\n",
    "        class_path = os.path.join(path, folder)\n",
    "        images, targets = class_to_data(class_path, label)\n",
    "        X = np.append(X, images, axis=0)\n",
    "        y = np.append(y, targets)\n",
    "        label += 1\n",
    "        if label > n_classes:\n",
    "            break\n",
    "    return X, y"
   ]
  },
  {
   "cell_type": "markdown",
   "metadata": {
    "deletable": true,
    "editable": true
   },
   "source": [
    "Generate a new smaller dataset which takes the first 10 classes. We will resize the data on 30% of their size because of performance. After we found a good model we will take the whole data and train it in the Google Cloud."
   ]
  },
  {
   "cell_type": "code",
   "execution_count": 149,
   "metadata": {
    "collapsed": false,
    "deletable": true,
    "editable": true
   },
   "outputs": [
    {
     "name": "stdout",
     "output_type": "stream",
     "text": [
      "Error: Image is not RGB: data/data_resized/001.ak47\\001_0016.jpg\n",
      "Error: Image is not RGB: data/data_resized/006.basketball-hoop\\006_0004.jpg\n",
      "Error: Image is not RGB: data/data_resized/006.basketball-hoop\\006_0005.jpg\n",
      "Error: Image is not RGB: data/data_resized/006.basketball-hoop\\006_0007.jpg\n",
      "Error: Image is not RGB: data/data_resized/006.basketball-hoop\\006_0063.jpg\n",
      "Error: Image is not RGB: data/data_resized/006.basketball-hoop\\006_0075.jpg\n",
      "Error: Image is not RGB: data/data_resized/007.bat\\007_0082.jpg\n",
      "Error: Image is not RGB: data/data_resized/008.bathtub\\008_0137.jpg\n"
     ]
    }
   ],
   "source": [
    "X, y = classes_to_data('data/data_resized/', n_classes=10)"
   ]
  },
  {
   "cell_type": "markdown",
   "metadata": {
    "deletable": true,
    "editable": true
   },
   "source": [
    "Save the 10 classes with labels as npz-file:"
   ]
  },
  {
   "cell_type": "code",
   "execution_count": null,
   "metadata": {
    "collapsed": false,
    "deletable": true,
    "editable": true
   },
   "outputs": [],
   "source": [
    "h = io.imread('data/data_resized/001.ak47/001_0001.jpg')\n",
    "h = transform.rescale(h, (image_width, image_height), mode='reflect', preserve_range=True)"
   ]
  },
  {
   "cell_type": "code",
   "execution_count": null,
   "metadata": {
    "collapsed": true
   },
   "outputs": [],
   "source": [
    "h"
   ]
  },
  {
   "cell_type": "code",
   "execution_count": 12,
   "metadata": {
    "collapsed": false,
    "deletable": true,
    "editable": true
   },
   "outputs": [
    {
     "ename": "NameError",
     "evalue": "name 'X' is not defined",
     "output_type": "error",
     "traceback": [
      "\u001b[1;31m---------------------------------------------------------------------------\u001b[0m",
      "\u001b[1;31mNameError\u001b[0m                                 Traceback (most recent call last)",
      "\u001b[1;32m<ipython-input-12-30ce2851b93e>\u001b[0m in \u001b[0;36m<module>\u001b[1;34m()\u001b[0m\n\u001b[1;32m----> 1\u001b[1;33m \u001b[0mnp\u001b[0m\u001b[1;33m.\u001b[0m\u001b[0msavez\u001b[0m\u001b[1;33m(\u001b[0m\u001b[1;34m'data/image_data'\u001b[0m\u001b[1;33m,\u001b[0m \u001b[0mX\u001b[0m\u001b[1;33m,\u001b[0m \u001b[0my\u001b[0m\u001b[1;33m)\u001b[0m\u001b[1;33m\u001b[0m\u001b[0m\n\u001b[0m",
      "\u001b[1;31mNameError\u001b[0m: name 'X' is not defined"
     ]
    }
   ],
   "source": [
    "np.savez('data/image_data', X, y)"
   ]
  },
  {
   "cell_type": "code",
   "execution_count": null,
   "metadata": {
    "collapsed": true
   },
   "outputs": [],
   "source": []
  }
 ],
 "metadata": {
  "kernelspec": {
   "display_name": "Python 3",
   "language": "python",
   "name": "python3"
  },
  "language_info": {
   "codemirror_mode": {
    "name": "ipython",
    "version": 3
   },
   "file_extension": ".py",
   "mimetype": "text/x-python",
   "name": "python",
   "nbconvert_exporter": "python",
   "pygments_lexer": "ipython3",
   "version": "3.5.3"
  }
 },
 "nbformat": 4,
 "nbformat_minor": 2
}
