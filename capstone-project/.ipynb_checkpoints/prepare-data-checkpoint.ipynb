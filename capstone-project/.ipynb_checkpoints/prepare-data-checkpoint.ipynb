{
 "cells": [
  {
   "cell_type": "markdown",
   "metadata": {
    "deletable": true,
    "editable": true
   },
   "source": [
    "# Prepare data"
   ]
  },
  {
   "cell_type": "code",
   "execution_count": 27,
   "metadata": {
    "collapsed": false,
    "deletable": true,
    "editable": true
   },
   "outputs": [],
   "source": [
    "# import libraries\n",
    "import PIL as pil\n",
    "import os as os\n",
    "import numpy as np\n",
    "import pandas as pd\n",
    "import humanize as hm\n",
    "from skimage import data, io, filters\n",
    "\n",
    "#from sklearn.decomposition import PCA"
   ]
  },
  {
   "cell_type": "code",
   "execution_count": 24,
   "metadata": {
    "collapsed": false,
    "deletable": true,
    "editable": true
   },
   "outputs": [
    {
     "data": {
      "text/plain": [
       "43815"
      ]
     },
     "execution_count": 24,
     "metadata": {},
     "output_type": "execute_result"
    }
   ],
   "source": [
    "n_classes = 256\n",
    "image_count = 30607\n",
    "image_resize_factor = 3\n",
    "image_height = int(382 / image_resize_factor)\n",
    "image_width = int(345 / image_resize_factor)\n",
    "image_pixels = image_height * image_width * 3\n",
    "image_pixels"
   ]
  },
  {
   "cell_type": "code",
   "execution_count": 25,
   "metadata": {
    "collapsed": false,
    "deletable": true,
    "editable": true
   },
   "outputs": [],
   "source": [
    "# converts images of a whole class into a pandas dataframe, it reduces the images size by factor 3\n",
    "# path: path where images are\n",
    "# label for the images\n",
    "# return: pandas dataframe with pixel in each row and the label\n",
    "def class_to_df(path, label):\n",
    "    images = np.empty((0, image_pixels), dtype=np.int8)\n",
    "    targets = np.empty(0, dtype=np.int8)\n",
    "\n",
    "    for image in os.listdir(path):\n",
    "        if image.endswith('.jpg'):\n",
    "            try:\n",
    "                image_path = os.path.join(path, image)\n",
    "                im = io.imread(image_path)\n",
    "                im = transform.resize(im, (image_width, image_height), mode='reflect')\n",
    "                im = np.array(im)\n",
    "                im = im.reshape(-1)\n",
    "                images = np.append(images, [im], axis=0)\n",
    "                \n",
    "                targets = np.append(targets, label)\n",
    "            except:\n",
    "                 print('Error in image:', image)\n",
    "                 continue\n",
    "    #df = pd.DataFrame(data=images)\n",
    "    #df['label'] = pd.Series(data=targets)\n",
    "    return images, targets"
   ]
  },
  {
   "cell_type": "code",
   "execution_count": 33,
   "metadata": {
    "collapsed": false,
    "deletable": true,
    "editable": true
   },
   "outputs": [
    {
     "name": "stdout",
     "output_type": "stream",
     "text": [
      "Error in image: 001_0016.jpg\n"
     ]
    }
   ],
   "source": [
    "X1, y1 = class_to_df('data_resized/001.ak47/', 1)\n",
    "X2, y2 = class_to_df('data_resized/002.american-flag/', 2)\n",
    "X3, y3 = class_to_df('data_resized/003.backpack/', 3)"
   ]
  },
  {
   "cell_type": "code",
   "execution_count": 63,
   "metadata": {
    "collapsed": false
   },
   "outputs": [],
   "source": [
    "X = np.append(X1, X2, axis=0)\n",
    "X = np.append(X, X3)\n",
    "y = np.append(y1, y2)\n",
    "y = np.append(y, y3)"
   ]
  },
  {
   "cell_type": "code",
   "execution_count": 64,
   "metadata": {
    "collapsed": true,
    "deletable": true,
    "editable": true
   },
   "outputs": [],
   "source": [
    " \n",
    "def prepare_training_data(path, n_classes):\n",
    "    label = 1\n",
    "\n",
    "    for folder in os.listdir(path):\n",
    "        folder_path = os.path.join(path, folder)\n",
    "        if os.path.isdir(folder_path):\n",
    "            print(label)\n",
    "            df = class_to_pd_df(folder_path, label)\n",
    "            file_path = os.path.join(folder_path, '')\n",
    "            df.to_csv\n",
    "            label += 1\n",
    "    return images, targets"
   ]
  },
  {
   "cell_type": "code",
   "execution_count": null,
   "metadata": {
    "collapsed": true
   },
   "outputs": [],
   "source": []
  }
 ],
 "metadata": {
  "kernelspec": {
   "display_name": "Python 3",
   "language": "python",
   "name": "python3"
  },
  "language_info": {
   "codemirror_mode": {
    "name": "ipython",
    "version": 3
   },
   "file_extension": ".py",
   "mimetype": "text/x-python",
   "name": "python",
   "nbconvert_exporter": "python",
   "pygments_lexer": "ipython3",
   "version": "3.6.0"
  }
 },
 "nbformat": 4,
 "nbformat_minor": 2
}
